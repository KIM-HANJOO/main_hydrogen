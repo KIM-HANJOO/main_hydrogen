{
 "cells": [
  {
   "cell_type": "code",
   "execution_count": 3,
   "id": "97c1d39c",
   "metadata": {},
   "outputs": [
    {
     "name": "stdout",
     "output_type": "stream",
     "text": [
      "274 158\n",
      "140 185\n"
     ]
    }
   ],
   "source": [
    "'''\n",
    "note :\n",
    "\n",
    "'''\n",
    "\n",
    "###################################################################################\n",
    "import os\n",
    "import dir_info\n",
    "di = dir_info.Info()\n",
    "main_dir = di.main_dir\n",
    "prep_dir = di.prep_dir \t\t\t\t\t# \\1_preprocessing\n",
    "model_dir = di.model_dir \t\t\t\t# \\2_model\n",
    "module_dir = di.module_dir \t\t\t\t# \\module\n",
    "facility_dir = di.facility_dir\t\t\t# \\facility\n",
    "plot_dir = di.plot_dir\t\t\t\t\t# \\plot\n",
    "cluster_dir = di.cluster_dir \t\t\t# \\0_temp_dir(clustering)\n",
    "facility_list = di.facility_list_merge\t\t#['업무시설', '판매및숙박', '문화시설', '교육시설']\n",
    "\n",
    "import model_library as lib\n",
    "import pandas as pd\n",
    "import numpy as np\n",
    "import matplotlib\n",
    "import matplotlib.pyplot as plt\n",
    "from matplotlib import font_manager, rc\n",
    "import model_library as lib\n",
    "font_path = \"C:/Windows/Fonts/malgunbd.TTF\"\n",
    "font = font_manager.FontProperties(fname=font_path).get_name()\n",
    "rc('font', family=font)\n",
    "matplotlib.rcParams['axes.unicode_minus'] = False\n",
    "import os\n",
    "\n",
    "\n",
    "os.chdir('C:\\\\Users\\\\joo09\\Documents\\\\GitHub\\\\main_hydrogen\\\\시설군별\\\\model3_cluster\\\\판매및숙박')\n",
    "\n",
    "g0 = lib.read_excel('profile_48_group_0.xlsx')\n",
    "g1 = lib.read_excel('profile_48_group_1.xlsx')\n",
    "\n",
    "num0_0 = 0 # 판매\n",
    "num0_1 = 0 # 숙박\n",
    "num1_0 = 0 # 판매\n",
    "num1_1 = 0 # 숙박\n",
    "\n",
    "for i in range(g0.shape[0]) :\n",
    "    if '도매 및 소매업' in g0.loc[i, 'excel'] :\n",
    "        num0_0 +=1 \n",
    "        \n",
    "    elif '숙박' in g0.loc[i, 'excel'] :\n",
    "        num0_1 +=1 \n",
    "        \n",
    "for i in range(g1.shape[0]) :\n",
    "    if '도매 및 소매업' in g1.loc[i, 'excel'] :\n",
    "        num1_0 +=1 \n",
    "        \n",
    "    elif '숙박' in g1.loc[i, 'excel'] :\n",
    "        num1_1 +=1 \n",
    "        \n",
    "print(num0_0, num0_1)\n",
    "print(num1_0, num1_1)\n"
   ]
  },
  {
   "cell_type": "code",
   "execution_count": 5,
   "id": "5fd082ce",
   "metadata": {},
   "outputs": [
    {
     "name": "stdout",
     "output_type": "stream",
     "text": [
      "66.18357487922705\n",
      "46.06413994169096\n"
     ]
    }
   ],
   "source": [
    "print(num0_0 / (num0_0 + num1_0) * 100)\n",
    "print(num0_1 / (num0_1 + num1_1) * 100)"
   ]
  },
  {
   "cell_type": "code",
   "execution_count": null,
   "id": "b4ccb614",
   "metadata": {},
   "outputs": [],
   "source": []
  }
 ],
 "metadata": {
  "kernelspec": {
   "display_name": "Python 3 (ipykernel)",
   "language": "python",
   "name": "python3"
  },
  "language_info": {
   "codemirror_mode": {
    "name": "ipython",
    "version": 3
   },
   "file_extension": ".py",
   "mimetype": "text/x-python",
   "name": "python",
   "nbconvert_exporter": "python",
   "pygments_lexer": "ipython3",
   "version": "3.9.6"
  }
 },
 "nbformat": 4,
 "nbformat_minor": 5
}
