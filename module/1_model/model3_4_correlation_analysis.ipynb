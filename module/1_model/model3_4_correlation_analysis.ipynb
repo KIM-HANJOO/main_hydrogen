{
 "cells": [
  {
   "cell_type": "code",
   "execution_count": null,
   "id": "636689f7",
   "metadata": {},
   "outputs": [],
   "source": [
    "'''\n",
    "note :\n",
    "\n",
    "'''\n",
    "\n",
    "###################################################################################\n",
    "import os\n",
    "import dir_info\n",
    "di = dir_info.Info()\n",
    "main_dir = di.main_dir\n",
    "prep_dir = di.prep_dir \t\t\t\t\t# \\1_preprocessing\n",
    "model_dir = di.model_dir \t\t\t\t# \\2_model\n",
    "module_dir = di.module_dir \t\t\t\t# \\module\n",
    "facility_dir = di.facility_dir\t\t\t# \\facility\n",
    "plot_dir = di.plot_dir\t\t\t\t\t# \\plot\n",
    "cluster_dir = di.cluster_dir \t\t\t# \\0_temp_dir(clustering)\n",
    "facility_list = di.facility_list_merge\t\t#['업무시설', '판매및숙박', '문화시설', '교육시설']\n",
    "\n",
    "import model_library as lib\n",
    "import pandas as pd\n",
    "import numpy as np\n",
    "import matplotlib\n",
    "import matplotlib.pyplot as plt\n",
    "from matplotlib import font_manager, rc\n",
    "font_path = \"C:/Windows/Fonts/malgunbd.TTF\"\n",
    "font = font_manager.FontProperties(fname=font_path).get_name()\n",
    "rc('font', family=font)\n",
    "matplotlib.rcParams['axes.unicode_minus'] = False\n",
    "import os\n",
    "\n",
    "# subplot numbers\n",
    "num_0 = [1, 2, 5, 6]\n",
    "num_1 = [3, 4, 7, 8]\n",
    "num_2 = [9, 10, 13, 14]\n",
    "num_3 = [11, 12, 15, 16]\n",
    "\t\n",
    "hours_ex = []\n",
    "for i in range(1, 49) :\n",
    "\thours_ex.append(i)\n",
    "\n",
    "line_1 = 22.5\n",
    "line_2 = 45.5\n",
    "\t\n",
    "# make model3_model4 plot\n",
    "\n",
    "model3_dir = facility_dir + '\\\\model3_cluster'\n",
    "model4_dir = facility_dir + '\\\\model4'\n",
    "\n",
    "fig = plt.figure(figsize = (40, 40))\n",
    "\n",
    "for num, fc in enumerate(facility_list) :\n",
    "\tprint(f'{fc} working ...')\n",
    "\t\n",
    "\tfc_dir = model3_dir + f'\\\\{fc}'\n",
    "\tos.chdir(fc_dir)\n",
    "\tpf48_g0 = lib.read_excel('profile_48_group_0.xlsx')\n",
    "\tpf48_g1 = lib.read_excel('profile_48_group_1.xlsx')\n",
    "\t\n",
    "\tpf48_g0.columns = pf48_g0.columns.astype(str)\n",
    "\tpf48_g1.columns = pf48_g1.columns.astype(str)\n",
    "\t\t\n",
    "\tos.chdir(model4_dir + f'\\\\{fc}' + '\\\\group_0_model4')\n",
    "\tg0_m4_day = lib.read_excel('model4_weekdays.xlsx')\n",
    "\tg0_m4_end = lib.read_excel('model4_weekends.xlsx')\n",
    "\tg0_m4_day.columns = g0_m4_day.columns.astype(str)\n",
    "\tg0_m4_end.columns = g0_m4_end.columns.astype(str)\n",
    "\t\n",
    "\tos.chdir(model4_dir + f'\\\\{fc}' + '\\\\group_1_model4')\n",
    "\tg1_m4_day = lib.read_excel('model4_weekdays.xlsx')\n",
    "\tg1_m4_end = lib.read_excel('model4_weekends.xlsx')\n",
    "\tg1_m4_day.columns = g1_m4_day.columns.astype(str)\n",
    "\tg1_m4_end.columns = g1_m4_end.columns.astype(str)\n",
    "\t\n",
    "\tprint('\\tall loaded')\n",
    "\t\n",
    "\tcheck = 0 # group num 'un'matches for model3 and model4\n",
    "\tfor names in g0_m4_day.loc[:, 'excel'] :\n",
    "\t\tif pf48_g0.loc[0, 'excel'] in names :\n",
    "\t\t\tcheck = 1 # group num matches for model3 and model4\n",
    "\n",
    "\tif check == 0 : # switch model4 0th with 1st\n",
    "\t\ttemp = g0_m4_day.copy()\n",
    "\t\tg0_m4_day = g1_m4_day\n",
    "\t\tg1_m4_day = temp\n",
    "\t\t\n",
    "\t\ttemp = g0_m4_end.copy()\n",
    "\t\tg0_m4_end = g1_m4_end\n",
    "\t\tg1_m4_end = temp\n",
    "\t\ttemp = None\n",
    "\t\tprint('\\t0th -> 1st')\t\n",
    "\telse :\n",
    "\t\tprint('\\tmatched')\t\n",
    "\t\t\n",
    "\t\t\n",
    "\t# subplot add\n",
    "\tax0_m3 = fig.add_subplot(4, 4, locals()[f'num_{num}'][0])\n",
    "\tax1_m3 = fig.add_subplot(4, 4, locals()[f'num_{num}'][1])\n",
    "\t\n",
    "\tax0_m4 = fig.add_subplot(4, 4, locals()[f'num_{num}'][2])\n",
    "\tax1_m4 = fig.add_subplot(4, 4, locals()[f'num_{num}'][3])\n",
    "\t\n",
    "\t\n",
    "\t# plot \n",
    "\t\n",
    "\tflierprops = dict(marker='o', markerfacecolor='g', markersize= 2 ,\\\n",
    "\t\t\t\t\tlinestyle='none', markeredgecolor='dimgrey')\n",
    "\txticks_6 = [6, 12, 18, 24, 30, 36, 42, 48]\n",
    "\txticks_48 = []\n",
    "\tfor i in range(1, 49) :\n",
    "\t\txticks_48.append(i)\n",
    "\t\t\n",
    "\tprint('\\tplot start')\n",
    "\t\t# model 3 group_0\n",
    "\tfor i in range(pf48_g0.shape[0]) :\n",
    "\t\tax0_m3.plot(hours_ex, pf48_g0.loc[i, '1' : '48'], alpha = 1)\n",
    "\t\t\n",
    "\tfor i in range(pf48_g1.shape[0]) :\n",
    "\t\tax1_m3.plot(hours_ex, pf48_g1.loc[i, '1' : '48'], alpha = 1)\t\n",
    "\t\n",
    "\tax0_m3.plot([24, 24], [-2, 2], color = 'dimgrey') \n",
    "\tax0_m3.plot([48, 48], [-2, 2], color = 'dimgrey')\n",
    "\tax0_m3.text(line_1, 0.17, 'weekdays', rotation = 90, color = 'dimgrey')\n",
    "\tax0_m3.text(line_2 + 1, 0.17, 'weekends', rotation = 90, color = 'dimgrey')\n",
    "\t\n",
    "\tax1_m3.plot([24, 24], [-2, 2], color = 'dimgrey') \n",
    "\tax1_m3.plot([48, 48], [-2, 2], color = 'dimgrey')\n",
    "\tax1_m3.text(line_1, 0.17, 'weekdays', rotation = 90, color = 'dimgrey')\n",
    "\tax1_m3.text(line_2 + 1, 0.17, 'weekends', rotation = 90, color = 'dimgrey')\n",
    "\t\n",
    "\tax0_m3.set_xlim([1, 48])\n",
    "\tax0_m3.set_ylim([0, 0.2])\n",
    "\tax0_m3.set_title('{}_{}_model3'.format(fc, '0'))\n",
    "\tax0_m3.set_xlabel('hours')\n",
    "\tax0_m3.set_xticks(xticks_6)\n",
    "\tax0_m3.grid()\n",
    "\t\n",
    "\tax1_m3.set_xlim([1, 48])\n",
    "\tax1_m3.set_ylim([0, 0.2])\n",
    "\tax1_m3.set_title('{}_{}_model3'.format(fc, '1'))\n",
    "\tax1_m3.set_xlabel('hours')\n",
    "\tax1_m3.set_xticks(xticks_6)\n",
    "\tax1_m3.grid()\n",
    "\tprint('\\tmodel3 plot end')\n",
    "\t\n",
    "\t\n",
    "\t\t# model 4 group_0\n",
    "\tfor i in range(1, 49) :\n",
    "\t\tif i < 25 : # plot from weekday df\n",
    "\t\t\ttemp = ax0_m4.boxplot(g0_m4_day.loc[:, f'{i}'], positions = [i], flierprops = flierprops)\n",
    "\t\telse :\n",
    "\t\t\ttemp = ax0_m4.boxplot(g0_m4_end.loc[:, f'{i - 24}'], positions = [i], flierprops = flierprops)\n",
    "\tax0_m4.set_xlabel('hours')\n",
    "\tax0_m4.set_title('{}_{}_model4'.format(fc, '0'))\n",
    "\t\n",
    "\tax0_m4.plot([24, 24], [-2, 2], color = 'dimgrey') \n",
    "# \tax0_m4.plot([48, 48], [-2, 2], color = 'dimgrey')\n",
    "\tax0_m4.text(line_1, 0.8, 'weekdays', rotation = 90, color = 'dimgrey')\n",
    "\tax0_m4.text(line_2 + 2, 0.8, 'weekends', rotation = 90, color = 'dimgrey')\n",
    "\tax0_m4.set_xticklabels(xticks_48, rotation = 90)\n",
    "\t\n",
    "\tax0_m4.set_xlim([0, 49])\n",
    "\tax0_m4.set_ylim([-0.2, 1])\n",
    "\tax0_m4.grid()\n",
    "\n",
    "\n",
    "\t\t# model 4 group_1\n",
    "\tfor i in range(1, 49) :\n",
    "\t\tif i < 25 : # plot from weekday df\n",
    "\t\t\ttemp = ax1_m4.boxplot(g1_m4_day.loc[:, f'{i}'], positions = [i], flierprops = flierprops)\n",
    "\t\telse :\n",
    "\t\t\ttemp = ax1_m4.boxplot(g1_m4_end.loc[:, f'{i - 24}'], positions = [i], flierprops = flierprops)\n",
    "\tax1_m4.set_xlabel('hours')\n",
    "\tax1_m4.set_title('{}_{}_model4'.format(fc, '1'))\n",
    "\t\n",
    "\tax1_m4.plot([24, 24], [-2, 2], color = 'dimgrey') \n",
    "# \tax1_m4.plot([48, 48], [-2, 2], color = 'dimgrey')\n",
    "\tax1_m4.text(line_1, 0.8, 'weekdays', rotation = 90, color = 'dimgrey')\n",
    "\tax1_m4.text(line_2 + 2, 0.8, 'weekends', rotation = 90, color = 'dimgrey')\n",
    "\tax1_m4.set_xticklabels(xticks_48, rotation = 90)\n",
    "\t\n",
    "\tax1_m4.set_xlim([0, 49])\n",
    "\tax1_m4.set_ylim([-0.2, 1])\n",
    "\tax1_m4.grid()\n",
    "\tprint('\\tmodel4 plot end')\n",
    "\n",
    "\n",
    "os.chdir(plot_dir)\n",
    "fig.subplots_adjust(hspace = 0.5, wspace = 0.5)\n",
    "fig.suptitle(\"Model 3 & Model 4 for all Facilities\", fontsize = 40)\n",
    "plt.savefig('model_3_4_wide.png', dpi = 400)\n",
    "plt.show()\n",
    "\n"
   ]
  },
  {
   "cell_type": "code",
   "execution_count": 1,
   "id": "591e1093",
   "metadata": {},
   "outputs": [
    {
     "name": "stdout",
     "output_type": "stream",
     "text": [
      "업무시설 working ...\n",
      "\tall loaded\n",
      "\tmatched\n"
     ]
    }
   ],
   "source": [
    "'''\n",
    "note :\n",
    "\n",
    "'''\n",
    "\n",
    "###################################################################################\n",
    "import os\n",
    "import dir_info\n",
    "di = dir_info.Info()\n",
    "main_dir = di.main_dir\n",
    "prep_dir = di.prep_dir \t\t\t\t\t# \\1_preprocessing\n",
    "model_dir = di.model_dir \t\t\t\t# \\2_model\n",
    "module_dir = di.module_dir \t\t\t\t# \\module\n",
    "facility_dir = di.facility_dir\t\t\t# \\facility\n",
    "plot_dir = di.plot_dir\t\t\t\t\t# \\plot\n",
    "cluster_dir = di.cluster_dir \t\t\t# \\0_temp_dir(clustering)\n",
    "facility_list = di.facility_list_merge\t\t#['업무시설', '판매및숙박', '문화시설', '교육시설']\n",
    "\n",
    "import model_library as lib\n",
    "import pandas as pd\n",
    "import numpy as np\n",
    "import scipy.stats as stats\n",
    "import matplotlib.pyplot as plt\n",
    "\n",
    "\n",
    "\n",
    "\n",
    "model3_dir = facility_dir + '\\\\model3_cluster'\n",
    "model4_dir = facility_dir + '\\\\model4'\n",
    "\n",
    "hours_str = []\n",
    "for i in range(1, 49) :\n",
    "    hours_str.append(str(i))\n",
    "\n",
    "for num, fc in enumerate(facility_list) :\n",
    "    if num == 0 :\n",
    "        print(f'{fc} working ...')\n",
    "\n",
    "        fc_dir = model3_dir + f'\\\\{fc}'\n",
    "        os.chdir(fc_dir)\n",
    "        pf48_g0 = lib.read_excel('profile_48_group_0.xlsx')\n",
    "        pf48_g1 = lib.read_excel('profile_48_group_1.xlsx')\n",
    "\n",
    "        pf48_g0.columns = pf48_g0.columns.astype(str)\n",
    "        pf48_g1.columns = pf48_g1.columns.astype(str)\n",
    "\n",
    "        os.chdir(model4_dir + f'\\\\{fc}' + '\\\\group_0_model4')\n",
    "        g0_m4_day = lib.read_excel('model4_weekdays.xlsx')\n",
    "        g0_m4_end = lib.read_excel('model4_weekends.xlsx')\n",
    "        g0_m4_day.columns = g0_m4_day.columns.astype(str)\n",
    "        g0_m4_end.columns = g0_m4_end.columns.astype(str)\n",
    "\n",
    "        os.chdir(model4_dir + f'\\\\{fc}' + '\\\\group_1_model4')\n",
    "        g1_m4_day = lib.read_excel('model4_weekdays.xlsx')\n",
    "        g1_m4_end = lib.read_excel('model4_weekends.xlsx')\n",
    "        g1_m4_day.columns = g1_m4_day.columns.astype(str)\n",
    "        g1_m4_end.columns = g1_m4_end.columns.astype(str)\n",
    "\n",
    "        print('\\tall loaded')\n",
    "\n",
    "        check = 0 # group num 'un'matches for model3 and model4\n",
    "        for names in g0_m4_day.loc[:, 'excel'] :\n",
    "            if pf48_g0.loc[0, 'excel'] in names :\n",
    "                check = 1 # group num matches for model3 and model4\n",
    "\n",
    "        if check == 0 : # switch model4 0th with 1st\n",
    "            temp = g0_m4_day.copy()\n",
    "            g0_m4_day = g1_m4_day\n",
    "            g1_m4_day = temp\n",
    "\n",
    "            temp = g0_m4_end.copy()\n",
    "            g0_m4_end = g1_m4_end\n",
    "            g1_m4_end = temp\n",
    "            temp = None\n",
    "            print('\\t0th -> 1st')\t\n",
    "        else :\n",
    "            print('\\tmatched')\t\n",
    "\n"
   ]
  },
  {
   "cell_type": "code",
   "execution_count": 2,
   "id": "7da51452",
   "metadata": {},
   "outputs": [
    {
     "name": "stdout",
     "output_type": "stream",
     "text": [
      "\tfound current group as 교육시설_group0\n"
     ]
    }
   ],
   "source": [
    "# compare with scatterplot (model3 var - model4 size of box)\n",
    "\n",
    "for i in [0, 1] : # for groups\n",
    "    # for current group, \n",
    "    if i == 0 :\n",
    "\n",
    "        name = f'{fc}_group{i}'\n",
    "        t_model3 = locals()[f'pf48_g{i}']\n",
    "        t_model4_day = locals()[f'g{i}_m4_day']\n",
    "        t_model4_end = locals()[f'g{i}_m4_end']\n",
    "\n",
    "        t_model4_day = t_model4_day.sort_values(by = ['excel'])\n",
    "        t_model4_end = t_model4_end.sort_values(by = ['excel'])\n",
    "\n",
    "        t_model4_day.reset_index(drop = True, inplace = True)\n",
    "        t_model4_end.reset_index(drop = True, inplace = True)\n",
    "\n",
    "        print(f'\\tfound current group as {fc}_group{i}')\n",
    "\n",
    "    # make 48 hours model 4"
   ]
  },
  {
   "cell_type": "code",
   "execution_count": 3,
   "id": "f0b82f2e",
   "metadata": {},
   "outputs": [
    {
     "name": "stdout",
     "output_type": "stream",
     "text": [
      "3.5\n"
     ]
    }
   ],
   "source": [
    "def IQR(dist):\n",
    "    return np.percentile(dist, 75) - np.percentile(dist, 25)\n",
    "\n",
    "def sorted_find(t_list, find_var) :\n",
    "    max_var = len(t_list)\n",
    "    print(f'max_var = {max_var}')\n",
    "    found_index = []\n",
    "\n",
    "    for i in range(len(t_list)) :\n",
    "        if find_var in t_list[i] :\n",
    "            found_index.append(i)\n",
    "            max_var = i\n",
    "            print(f'{i}\\t{find_var}\\t{t_list[i]}')\n",
    "        else :\n",
    "            if i > max_var :\n",
    "                print(f'i = {i}')\n",
    "                break\n",
    "    print(f'found_index = {found_index}')\n",
    "    return found_index\n",
    "\n",
    "def sorted_list(t_list, find_var) :\n",
    "    found_index = []\n",
    "    for i in range(len(t_list)) :\n",
    "        if find_var in t_list[i] :\n",
    "            found_index.append(i)\n",
    "            print(f'{i}\\t{find_var}\\t{t_list[i]}')\n",
    "    print(len(found_list))\n",
    "            \n",
    "#     return found_index\n",
    "\n",
    "a = 'dkdkdk'\n",
    "b = 'slslsl'\n",
    "c = 'fjfjfj'\n",
    "listt = []\n",
    "\n",
    "for i in range(100) :\n",
    "    listt.append(f'{a}_{i}')\n",
    "for i in range(100) :\n",
    "    listt.append(f'{b}_{i}')\n",
    "for i in range(100) :\n",
    "    listt.append(f'{c}_{i}')\n",
    "\n",
    "# found_index = sorted_find(listt, 'dkdkdk')         \n",
    "iqr = IQR([1, 2, 3, 4, 5, 6, 7, 8])\n",
    "print(iqr)\n",
    "# a = '[J.출판 영상 방송통신 및 정보서비스업 (58 ~ 63)]_0_'\n",
    "# alist = ['[J.출판 영상 방송통신 및 정보서비스업 (58 ~ 63)]_0_주중_봄가을.xlsx_0', '[J.출판 영상 방송통신 및 정보서비스업 (58 ~ 63)]_0_주중_봄가을.xlsx_1', '[J.출판 영상 방송통신 및 정보서비스업 (58 ~ 63)]_0_주중_봄가을.xlsx_10', '[J.출판 영상 방송통신 및 정보서비스업 (58 ~ 63)]_0_주중_봄가을.xlsx_100', '[J.출판 영상 방송통신 및 정보서비스업 (58 ~ 63)]_0_주중_봄가을.xlsx_101']\n",
    "# found_index = sorted_find(alist, a)"
   ]
  },
  {
   "cell_type": "code",
   "execution_count": 4,
   "id": "79743eae",
   "metadata": {
    "scrolled": false
   },
   "outputs": [
    {
     "name": "stdout",
     "output_type": "stream",
     "text": [
      "p-value = 0.002850582075862574\n",
      "[J.출판 영상 방송통신 및 정보서비스업 (58 ~ 63)]_0_\t상관관계가 있다\n",
      "p-value = 5.581387469482285e-05\n",
      "[J.출판 영상 방송통신 및 정보서비스업 (58 ~ 63)]_109_\t상관관계가 있다\n",
      "p-value = 0.42487456950681224\n",
      "[J.출판 영상 방송통신 및 정보서비스업 (58 ~ 63)]_112_\t상관관계가 없다\n"
     ]
    },
    {
     "data": {
      "image/png": "[encoded data removed]",
      "text/plain": [
       "<Figure size 432x288 with 1 Axes>"
      ]
     },
     "metadata": {
      "needs_background": "light"
     },
     "output_type": "display_data"
    },
    {
     "name": "stdout",
     "output_type": "stream",
     "text": [
      "2 done\r",
      "p-value = 0.0004253960771433056\n",
      "[J.출판 영상 방송통신 및 정보서비스업 (58 ~ 63)]_113_\t상관관계가 있다\n",
      "3 done\r",
      "p-value = 1.6460985062713445e-08\n",
      "[J.출판 영상 방송통신 및 정보서비스업 (58 ~ 63)]_114_\t상관관계가 있다\n",
      "4 done\r",
      "p-value = 4.8484159967419735e-08\n",
      "[J.출판 영상 방송통신 및 정보서비스업 (58 ~ 63)]_120_\t상관관계가 있다\n",
      "5 done\r",
      "p-value = 1.866578097550799e-05\n",
      "[J.출판 영상 방송통신 및 정보서비스업 (58 ~ 63)]_121_\t상관관계가 있다\n",
      "6 done\r",
      "p-value = 2.0774104646424277e-09\n",
      "[J.출판 영상 방송통신 및 정보서비스업 (58 ~ 63)]_126_\t상관관계가 있다\n",
      "7 done\r",
      "p-value = 0.0038899708264640716\n",
      "[J.출판 영상 방송통신 및 정보서비스업 (58 ~ 63)]_4_\t상관관계가 있다\n",
      "8 done\r",
      "p-value = 0.1816605753419806\n",
      "[K.금융 및 보험업 (64 ~ 66)]_0_\t상관관계가 없다\n"
     ]
    },
    {
     "data": {
      "image/png": "[encoded data removed]",
      "text/plain": [
       "<Figure size 432x288 with 1 Axes>"
      ]
     },
     "metadata": {
      "needs_background": "light"
     },
     "output_type": "display_data"
    },
    {
     "name": "stdout",
     "output_type": "stream",
     "text": [
      "p-value = 2.178130606807324e-06\n",
      "[K.금융 및 보험업 (64 ~ 66)]_10_\t상관관계가 있다\n",
      "p-value = 0.0002879115147410051\n",
      "[K.금융 및 보험업 (64 ~ 66)]_12_\t상관관계가 있다\n",
      "p-value = 4.9571568487525e-07\n",
      "[K.금융 및 보험업 (64 ~ 66)]_15_\t상관관계가 있다\n",
      "p-value = 2.1847160677355816e-06\n",
      "[K.금융 및 보험업 (64 ~ 66)]_16_\t상관관계가 있다\n",
      "p-value = 8.634145736783087e-08\n",
      "[K.금융 및 보험업 (64 ~ 66)]_17_\t상관관계가 있다\n",
      "p-value = 5.916316893788937e-07\n",
      "[K.금융 및 보험업 (64 ~ 66)]_19_\t상관관계가 있다\n",
      "p-value = 9.057990429210197e-06\n",
      "[K.금융 및 보험업 (64 ~ 66)]_21_\t상관관계가 있다\n",
      "p-value = 0.00010790055124079691\n",
      "[K.금융 및 보험업 (64 ~ 66)]_22_\t상관관계가 있다\n",
      "p-value = 0.005875279835137906\n",
      "[K.금융 및 보험업 (64 ~ 66)]_2_\t상관관계가 있다\n",
      "p-value = 7.855383411486747e-05\n",
      "[K.금융 및 보험업 (64 ~ 66)]_3_\t상관관계가 있다\n",
      "p-value = 9.412475537939802e-07\n",
      "[K.금융 및 보험업 (64 ~ 66)]_4_\t상관관계가 있다\n",
      "p-value = 1.3517064260195367e-12\n",
      "[K.금융 및 보험업 (64 ~ 66)]_5_\t상관관계가 있다\n",
      "p-value = 0.015346491360299216\n",
      "[K.금융 및 보험업 (64 ~ 66)]_6_\t상관관계가 있다\n",
      "p-value = 5.19234957409954e-07\n",
      "[K.금융 및 보험업 (64 ~ 66)]_7_\t상관관계가 있다\n",
      "p-value = 0.00043160710656487767\n",
      "[K.금융 및 보험업 (64 ~ 66)]_8_\t상관관계가 있다\n",
      "p-value = 7.368433751993581e-19\n",
      "[L.부동산업 및 임대업 (68 ~ 69)]_1002_\t상관관계가 있다\n",
      "p-value = 0.06679219644784377\n",
      "[L.부동산업 및 임대업 (68 ~ 69)]_1004_\t상관관계가 없다\n"
     ]
    },
    {
     "data": {
      "image/png": "[encoded data removed]",
      "text/plain": [
       "<Figure size 432x288 with 1 Axes>"
      ]
     },
     "metadata": {
      "needs_background": "light"
     },
     "output_type": "display_data"
    },
    {
     "name": "stdout",
     "output_type": "stream",
     "text": [
      "p-value = 9.011740483843351e-06\n",
      "[L.부동산업 및 임대업 (68 ~ 69)]_100_\t상관관계가 있다\n",
      "p-value = 2.2663890268737354e-08\n",
      "[L.부동산업 및 임대업 (68 ~ 69)]_1010_\t상관관계가 있다\n",
      "p-value = 3.628229483515299e-05\n",
      "[L.부동산업 및 임대업 (68 ~ 69)]_1011_\t상관관계가 있다\n",
      "p-value = 3.5213320072979813e-16\n",
      "[L.부동산업 및 임대업 (68 ~ 69)]_1013_\t상관관계가 있다\n",
      "p-value = 0.0013375499145743097\n",
      "[L.부동산업 및 임대업 (68 ~ 69)]_1015_\t상관관계가 있다\n",
      "p-value = 3.0538413867562336e-07\n",
      "[L.부동산업 및 임대업 (68 ~ 69)]_1016_\t상관관계가 있다\n",
      "p-value = 4.579409452229847e-09\n",
      "[L.부동산업 및 임대업 (68 ~ 69)]_101_\t상관관계가 있다\n",
      "p-value = 4.6445716940136945e-14\n",
      "[L.부동산업 및 임대업 (68 ~ 69)]_1020_\t상관관계가 있다\n",
      "p-value = 2.366488544552401e-10\n",
      "[L.부동산업 및 임대업 (68 ~ 69)]_1022_\t상관관계가 있다\n",
      "p-value = 1.0484935928001376e-19\n",
      "[L.부동산업 및 임대업 (68 ~ 69)]_1023_\t상관관계가 있다\n",
      "p-value = 6.046923711593802e-15\n",
      "[L.부동산업 및 임대업 (68 ~ 69)]_1024_\t상관관계가 있다\n",
      "p-value = 4.969665619163723e-06\n",
      "[L.부동산업 및 임대업 (68 ~ 69)]_1027_\t상관관계가 있다\n",
      "p-value = 0.00016001568097606404\n",
      "[L.부동산업 및 임대업 (68 ~ 69)]_1028_\t상관관계가 있다\n",
      "p-value = 3.8763316286504957e-07\n",
      "[L.부동산업 및 임대업 (68 ~ 69)]_1029_\t상관관계가 있다\n",
      "p-value = 8.264568322441403e-11\n",
      "[L.부동산업 및 임대업 (68 ~ 69)]_102_\t상관관계가 있다\n",
      "p-value = 4.622584767675578e-05\n",
      "[L.부동산업 및 임대업 (68 ~ 69)]_1030_\t상관관계가 있다\n",
      "p-value = 0.0009980803561822882\n",
      "[L.부동산업 및 임대업 (68 ~ 69)]_1034_\t상관관계가 있다\n",
      "p-value = 2.474917208180654e-08\n",
      "[L.부동산업 및 임대업 (68 ~ 69)]_1036_\t상관관계가 있다\n",
      "p-value = 1.537919337846796e-07\n",
      "[L.부동산업 및 임대업 (68 ~ 69)]_1037_\t상관관계가 있다\n",
      "p-value = 0.40558560212566175\n",
      "[L.부동산업 및 임대업 (68 ~ 69)]_1038_\t상관관계가 없다\n"
     ]
    },
    {
     "data": {
      "image/png": "[encoded data removed]",
      "text/plain": [
       "<Figure size 432x288 with 1 Axes>"
      ]
     },
     "metadata": {
      "needs_background": "light"
     },
     "output_type": "display_data"
    },
    {
     "name": "stdout",
     "output_type": "stream",
     "text": [
      "46 done\r",
      "p-value = 0.0010764345777553917\n",
      "[L.부동산업 및 임대업 (68 ~ 69)]_103_\t상관관계가 있다\n",
      "47 done\r",
      "p-value = 9.08303262699809e-18\n",
      "[L.부동산업 및 임대업 (68 ~ 69)]_1040_\t상관관계가 있다\n",
      "48 done\r",
      "p-value = 9.078921845186574e-09\n",
      "[L.부동산업 및 임대업 (68 ~ 69)]_1041_\t상관관계가 있다\n",
      "49 done\r",
      "p-value = 4.11810300044335e-08\n",
      "[L.부동산업 및 임대업 (68 ~ 69)]_1044_\t상관관계가 있다\n",
      "50 done\r",
      "p-value = 1.072965210244412e-18\n",
      "[L.부동산업 및 임대업 (68 ~ 69)]_1047_\t상관관계가 있다\n",
      "51 done\r",
      "p-value = 0.12655310841811415\n",
      "[L.부동산업 및 임대업 (68 ~ 69)]_1048_\t상관관계가 없다\n"
     ]
    },
    {
     "data": {
      "image/png": "[encoded data removed]",
      "text/plain": [
       "<Figure size 432x288 with 1 Axes>"
      ]
     },
     "metadata": {
      "needs_background": "light"
     },
     "output_type": "display_data"
    },
    {
     "name": "stdout",
     "output_type": "stream",
     "text": [
      "52 done\r",
      "p-value = 5.222108705484506e-11\n",
      "[L.부동산업 및 임대업 (68 ~ 69)]_1049_\t상관관계가 있다\n",
      "53 done\r",
      "p-value = 8.48059778712819e-12\n",
      "[L.부동산업 및 임대업 (68 ~ 69)]_104_\t상관관계가 있다\n",
      "54 done\r",
      "p-value = 5.588652681802281e-22\n",
      "[L.부동산업 및 임대업 (68 ~ 69)]_1050_\t상관관계가 있다\n",
      "55 done\r",
      "p-value = 1.4462542126668787e-10\n",
      "[L.부동산업 및 임대업 (68 ~ 69)]_1053_\t상관관계가 있다\n",
      "56 done\r",
      "p-value = 2.6744953115705667e-05\n",
      "[L.부동산업 및 임대업 (68 ~ 69)]_1055_\t상관관계가 있다\n",
      "57 done\r",
      "p-value = 9.999821790247946e-07\n",
      "[L.부동산업 및 임대업 (68 ~ 69)]_1056_\t상관관계가 있다\n",
      "58 done\r",
      "p-value = 4.758195161694141e-13\n",
      "[L.부동산업 및 임대업 (68 ~ 69)]_1059_\t상관관계가 있다\n",
      "59 done\r",
      "p-value = 0.05563453707629761\n",
      "[L.부동산업 및 임대업 (68 ~ 69)]_105_\t상관관계가 없다\n"
     ]
    },
    {
     "data": {
      "image/png": "[encoded data removed]",
      "text/plain": [
       "<Figure size 432x288 with 1 Axes>"
      ]
     },
     "metadata": {
      "needs_background": "light"
     },
     "output_type": "display_data"
    },
    {
     "name": "stdout",
     "output_type": "stream",
     "text": [
      "p-value = 1.0103922440586297e-17\n",
      "[L.부동산업 및 임대업 (68 ~ 69)]_1067_\t상관관계가 있다\n",
      "p-value = 3.201809108503502e-13\n",
      "[L.부동산업 및 임대업 (68 ~ 69)]_106_\t상관관계가 있다\n",
      "p-value = 9.17143222962639e-21\n",
      "[L.부동산업 및 임대업 (68 ~ 69)]_1070_\t상관관계가 있다\n",
      "p-value = 3.306055992358998e-08\n",
      "[L.부동산업 및 임대업 (68 ~ 69)]_1072_\t상관관계가 있다\n",
      "p-value = 2.7562096520059193e-11\n",
      "[L.부동산업 및 임대업 (68 ~ 69)]_1074_\t상관관계가 있다\n",
      "p-value = 2.563546987897583e-31\n",
      "[L.부동산업 및 임대업 (68 ~ 69)]_1075_\t상관관계가 있다\n",
      "p-value = 1.8135123860071137e-05\n",
      "[L.부동산업 및 임대업 (68 ~ 69)]_1076_\t상관관계가 있다\n",
      "p-value = 1.417113366856012e-13\n",
      "[L.부동산업 및 임대업 (68 ~ 69)]_1077_\t상관관계가 있다\n",
      "p-value = 1.4388205368544655e-06\n",
      "[L.부동산업 및 임대업 (68 ~ 69)]_1079_\t상관관계가 있다\n",
      "p-value = 0.2157374796727392\n",
      "[L.부동산업 및 임대업 (68 ~ 69)]_107_\t상관관계가 없다\n"
     ]
    },
    {
     "data": {
      "image/png": "[encoded data removed]",
      "text/plain": [
       "<Figure size 432x288 with 1 Axes>"
      ]
     },
     "metadata": {
      "needs_background": "light"
     },
     "output_type": "display_data"
    },
    {
     "name": "stdout",
     "output_type": "stream",
     "text": [
      "70 done\r",
      "p-value = 8.841974084755067e-10\n",
      "[L.부동산업 및 임대업 (68 ~ 69)]_1080_\t상관관계가 있다\n",
      "71 done\r",
      "p-value = 0.24933730279918706\n",
      "[L.부동산업 및 임대업 (68 ~ 69)]_1082_\t상관관계가 없다\n"
     ]
    },
    {
     "data": {
      "image/png": "[encoded data removed]",
      "text/plain": [
       "<Figure size 432x288 with 1 Axes>"
      ]
     },
     "metadata": {
      "needs_background": "light"
     },
     "output_type": "display_data"
    },
    {
     "name": "stdout",
     "output_type": "stream",
     "text": [
      "p-value = 0.0003978297505537064\n",
      "[L.부동산업 및 임대업 (68 ~ 69)]_1083_\t상관관계가 있다\n",
      "p-value = 3.1353113060566742e-24\n",
      "[L.부동산업 및 임대업 (68 ~ 69)]_1087_\t상관관계가 있다\n",
      "p-value = 0.00010827318095656404\n",
      "[L.부동산업 및 임대업 (68 ~ 69)]_108_\t상관관계가 있다\n",
      "p-value = 1.026923993408237e-15\n",
      "[L.부동산업 및 임대업 (68 ~ 69)]_1092_\t상관관계가 있다\n",
      "p-value = 9.441925701463061e-08\n",
      "[L.부동산업 및 임대업 (68 ~ 69)]_1095_\t상관관계가 있다\n",
      "p-value = 2.19530794168741e-14\n",
      "[L.부동산업 및 임대업 (68 ~ 69)]_1096_\t상관관계가 있다\n",
      "p-value = 0.0002973897731803162\n",
      "[L.부동산업 및 임대업 (68 ~ 69)]_109_\t상관관계가 있다\n",
      "p-value = 0.0005640778216041857\n",
      "[L.부동산업 및 임대업 (68 ~ 69)]_10_\t상관관계가 있다\n",
      "p-value = 0.007862676140861962\n",
      "[L.부동산업 및 임대업 (68 ~ 69)]_1104_\t상관관계가 있다\n",
      "p-value = 4.4847216138007904e-09\n",
      "[L.부동산업 및 임대업 (68 ~ 69)]_1109_\t상관관계가 있다\n",
      "p-value = 2.676150033889352e-07\n",
      "[L.부동산업 및 임대업 (68 ~ 69)]_1110_\t상관관계가 있다\n",
      "p-value = 0.00036062260985712867\n",
      "[L.부동산업 및 임대업 (68 ~ 69)]_1121_\t상관관계가 있다\n",
      "p-value = 0.0016197008440370197\n",
      "[L.부동산업 및 임대업 (68 ~ 69)]_1122_\t상관관계가 있다\n",
      "p-value = 1.7504072765412425e-09\n",
      "[L.부동산업 및 임대업 (68 ~ 69)]_1123_\t상관관계가 있다\n",
      "p-value = 2.8038901605838806e-07\n",
      "[L.부동산업 및 임대업 (68 ~ 69)]_1125_\t상관관계가 있다\n",
      "p-value = 1.2870877948440184e-08\n",
      "[L.부동산업 및 임대업 (68 ~ 69)]_1128_\t상관관계가 있다\n",
      "p-value = 1.1912739974458205e-07\n",
      "[L.부동산업 및 임대업 (68 ~ 69)]_1133_\t상관관계가 있다\n",
      "p-value = 0.08350708731300088\n",
      "[L.부동산업 및 임대업 (68 ~ 69)]_1134_\t상관관계가 없다\n"
     ]
    },
    {
     "data": {
      "image/png": "[encoded data removed]",
      "text/plain": [
       "<Figure size 432x288 with 1 Axes>"
      ]
     },
     "metadata": {
      "needs_background": "light"
     },
     "output_type": "display_data"
    },
    {
     "name": "stdout",
     "output_type": "stream",
     "text": [
      "90 done\r",
      "p-value = 2.267511994800739e-15\n",
      "[L.부동산업 및 임대업 (68 ~ 69)]_1135_\t상관관계가 있다\n",
      "91 done\r",
      "p-value = 8.244179165739321e-15\n",
      "[L.부동산업 및 임대업 (68 ~ 69)]_1141_\t상관관계가 있다\n",
      "92 done\r",
      "p-value = 0.0028468920015906653\n",
      "[L.부동산업 및 임대업 (68 ~ 69)]_1148_\t상관관계가 있다\n",
      "93 done\r",
      "p-value = 0.08753329839907523\n",
      "[L.부동산업 및 임대업 (68 ~ 69)]_1149_\t상관관계가 없다\n"
     ]
    },
    {
     "data": {
      "image/png": "[encoded data removed]",
      "text/plain": [
       "<Figure size 432x288 with 1 Axes>"
      ]
     },
     "metadata": {
      "needs_background": "light"
     },
     "output_type": "display_data"
    },
    {
     "name": "stdout",
     "output_type": "stream",
     "text": [
      "p-value = 0.0010271997859799397\n",
      "[L.부동산업 및 임대업 (68 ~ 69)]_1150_\t상관관계가 있다\n",
      "p-value = 5.9932075223723555e-15\n",
      "[L.부동산업 및 임대업 (68 ~ 69)]_1151_\t상관관계가 있다\n",
      "p-value = 0.004634955138685094\n",
      "[L.부동산업 및 임대업 (68 ~ 69)]_1153_\t상관관계가 있다\n",
      "p-value = 9.940741493910383e-19\n",
      "[L.부동산업 및 임대업 (68 ~ 69)]_1154_\t상관관계가 있다\n",
      "p-value = 1.674483967475208e-10\n",
      "[L.부동산업 및 임대업 (68 ~ 69)]_1155_\t상관관계가 있다\n",
      "p-value = 0.01978252574657095\n",
      "[L.부동산업 및 임대업 (68 ~ 69)]_1156_\t상관관계가 있다\n",
      "p-value = 7.988161392466941e-07\n",
      "[L.부동산업 및 임대업 (68 ~ 69)]_1158_\t상관관계가 있다\n",
      "p-value = 8.220683560700955e-07\n",
      "[L.부동산업 및 임대업 (68 ~ 69)]_1159_\t상관관계가 있다\n",
      "p-value = 4.136495792000739e-12\n",
      "[L.부동산업 및 임대업 (68 ~ 69)]_1160_\t상관관계가 있다\n",
      "p-value = 3.1750810959862495e-12\n",
      "[L.부동산업 및 임대업 (68 ~ 69)]_1163_\t상관관계가 있다\n",
      "p-value = 0.00010909314451951924\n",
      "[L.부동산업 및 임대업 (68 ~ 69)]_1168_\t상관관계가 있다\n",
      "p-value = 6.706241243030354e-20\n",
      "[L.부동산업 및 임대업 (68 ~ 69)]_1169_\t상관관계가 있다\n",
      "p-value = 0.16735555176089353\n",
      "[L.부동산업 및 임대업 (68 ~ 69)]_116_\t상관관계가 없다\n"
     ]
    },
    {
     "data": {
      "image/png": "[encoded data removed]",
      "text/plain": [
       "<Figure size 432x288 with 1 Axes>"
      ]
     },
     "metadata": {
      "needs_background": "light"
     },
     "output_type": "display_data"
    },
    {
     "name": "stdout",
     "output_type": "stream",
     "text": [
      "p-value = 5.385877199887658e-09\n",
      "[L.부동산업 및 임대업 (68 ~ 69)]_1172_\t상관관계가 있다\n",
      "p-value = 0.0006717437032803938\n",
      "[L.부동산업 및 임대업 (68 ~ 69)]_1173_\t상관관계가 있다\n",
      "p-value = 3.808647692181891e-25\n",
      "[L.부동산업 및 임대업 (68 ~ 69)]_1174_\t상관관계가 있다\n",
      "p-value = 1.2019061692075022e-11\n",
      "[L.부동산업 및 임대업 (68 ~ 69)]_1175_\t상관관계가 있다\n",
      "p-value = 1.0507237216669674e-05\n",
      "[L.부동산업 및 임대업 (68 ~ 69)]_1177_\t상관관계가 있다\n",
      "p-value = 3.515212620790321e-18\n",
      "[L.부동산업 및 임대업 (68 ~ 69)]_1178_\t상관관계가 있다\n",
      "p-value = 6.80625339808039e-05\n",
      "[L.부동산업 및 임대업 (68 ~ 69)]_117_\t상관관계가 있다\n",
      "p-value = 5.3549705578514547e-17\n",
      "[L.부동산업 및 임대업 (68 ~ 69)]_1182_\t상관관계가 있다\n",
      "p-value = 2.3613973298918936e-10\n",
      "[L.부동산업 및 임대업 (68 ~ 69)]_1184_\t상관관계가 있다\n",
      "p-value = 5.028585280710281e-05\n",
      "[L.부동산업 및 임대업 (68 ~ 69)]_1185_\t상관관계가 있다\n",
      "p-value = 1.0060564454773407e-08\n",
      "[L.부동산업 및 임대업 (68 ~ 69)]_1186_\t상관관계가 있다\n",
      "p-value = 0.00019578189265111312\n",
      "[L.부동산업 및 임대업 (68 ~ 69)]_1187_\t상관관계가 있다\n",
      "p-value = 6.056288353433191e-12\n",
      "[L.부동산업 및 임대업 (68 ~ 69)]_1190_\t상관관계가 있다\n",
      "p-value = 7.579943660160726e-17\n",
      "[L.부동산업 및 임대업 (68 ~ 69)]_1192_\t상관관계가 있다\n",
      "p-value = 4.666708469725851e-08\n",
      "[L.부동산업 및 임대업 (68 ~ 69)]_1202_\t상관관계가 있다\n",
      "p-value = 0.00555466745247009\n",
      "[L.부동산업 및 임대업 (68 ~ 69)]_1205_\t상관관계가 있다\n",
      "p-value = 1.6708014445568402e-06\n",
      "[L.부동산업 및 임대업 (68 ~ 69)]_1209_\t상관관계가 있다\n",
      "p-value = 2.5670684481623623e-05\n",
      "[L.부동산업 및 임대업 (68 ~ 69)]_1210_\t상관관계가 있다\n",
      "p-value = 3.954532812913117e-11\n",
      "[L.부동산업 및 임대업 (68 ~ 69)]_1211_\t상관관계가 있다\n",
      "p-value = 3.490754872972446e-10\n",
      "[L.부동산업 및 임대업 (68 ~ 69)]_1213_\t상관관계가 있다\n",
      "p-value = 3.58457909585549e-05\n",
      "[L.부동산업 및 임대업 (68 ~ 69)]_1214_\t상관관계가 있다\n",
      "p-value = 1.649439615001335e-08\n",
      "[L.부동산업 및 임대업 (68 ~ 69)]_1216_\t상관관계가 있다\n",
      "p-value = 5.612962665556105e-08\n",
      "[L.부동산업 및 임대업 (68 ~ 69)]_1219_\t상관관계가 있다\n",
      "p-value = 0.0019619754189377984\n",
      "[L.부동산업 및 임대업 (68 ~ 69)]_121_\t상관관계가 있다\n",
      "p-value = 1.705041055475439e-13\n",
      "[L.부동산업 및 임대업 (68 ~ 69)]_1222_\t상관관계가 있다\n",
      "p-value = 0.0033412631807650645\n",
      "[L.부동산업 및 임대업 (68 ~ 69)]_1224_\t상관관계가 있다\n",
      "p-value = 4.747565664672414e-05\n",
      "[L.부동산업 및 임대업 (68 ~ 69)]_1226_\t상관관계가 있다\n",
      "p-value = 1.6546231621043498e-20\n",
      "[L.부동산업 및 임대업 (68 ~ 69)]_1228_\t상관관계가 있다\n",
      "p-value = 3.706665704848438e-09\n",
      "[L.부동산업 및 임대업 (68 ~ 69)]_1230_\t상관관계가 있다\n",
      "p-value = 3.8116334639252613e-19\n",
      "[L.부동산업 및 임대업 (68 ~ 69)]_1235_\t상관관계가 있다\n",
      "p-value = 1.1667100759199916e-17\n",
      "[L.부동산업 및 임대업 (68 ~ 69)]_1237_\t상관관계가 있다\n",
      "p-value = 0.09814487230811156\n",
      "[L.부동산업 및 임대업 (68 ~ 69)]_1239_\t상관관계가 없다\n"
     ]
    },
    {
     "data": {
      "image/png": "[encoded data removed]",
      "text/plain": [
       "<Figure size 432x288 with 1 Axes>"
      ]
     },
     "metadata": {
      "needs_background": "light"
     },
     "output_type": "display_data"
    },
    {
     "name": "stdout",
     "output_type": "stream",
     "text": [
      "p-value = 0.013961073346871687\n",
      "[L.부동산업 및 임대업 (68 ~ 69)]_123_\t상관관계가 있다\n",
      "p-value = 1.8504801908957576e-08\n",
      "[L.부동산업 및 임대업 (68 ~ 69)]_1240_\t상관관계가 있다\n",
      "p-value = 0.0001907366020008267\n",
      "[L.부동산업 및 임대업 (68 ~ 69)]_1244_\t상관관계가 있다\n",
      "p-value = 7.635883769988013e-07\n",
      "[L.부동산업 및 임대업 (68 ~ 69)]_1245_\t상관관계가 있다\n",
      "p-value = 6.0613198260756644e-18\n",
      "[L.부동산업 및 임대업 (68 ~ 69)]_1252_\t상관관계가 있다\n",
      "p-value = 1.115832534340458e-07\n",
      "[L.부동산업 및 임대업 (68 ~ 69)]_1254_\t상관관계가 있다\n",
      "p-value = 7.035080606706445e-08\n",
      "[L.부동산업 및 임대업 (68 ~ 69)]_1257_\t상관관계가 있다\n",
      "p-value = 3.163284962656594e-19\n",
      "[L.부동산업 및 임대업 (68 ~ 69)]_1260_\t상관관계가 있다\n",
      "p-value = 9.016226126203973e-08\n",
      "[L.부동산업 및 임대업 (68 ~ 69)]_1263_\t상관관계가 있다\n",
      "p-value = 0.001793901497798512\n",
      "[L.부동산업 및 임대업 (68 ~ 69)]_1264_\t상관관계가 있다\n",
      "p-value = 6.507692859728572e-07\n",
      "[L.부동산업 및 임대업 (68 ~ 69)]_1265_\t상관관계가 있다\n",
      "p-value = 3.2488283683497335e-08\n",
      "[L.부동산업 및 임대업 (68 ~ 69)]_1269_\t상관관계가 있다\n",
      "p-value = 2.2364989177944156e-05\n",
      "[L.부동산업 및 임대업 (68 ~ 69)]_126_\t상관관계가 있다\n",
      "p-value = 0.00034220349080547587\n",
      "[L.부동산업 및 임대업 (68 ~ 69)]_1270_\t상관관계가 있다\n",
      "p-value = 8.456435141254462e-08\n",
      "[L.부동산업 및 임대업 (68 ~ 69)]_1271_\t상관관계가 있다\n",
      "p-value = 1.1816848536243307e-11\n",
      "[L.부동산업 및 임대업 (68 ~ 69)]_127_\t상관관계가 있다\n",
      "p-value = 1.1647873495300703e-11\n",
      "[L.부동산업 및 임대업 (68 ~ 69)]_1288_\t상관관계가 있다\n",
      "p-value = 2.8113469125388856e-09\n",
      "[L.부동산업 및 임대업 (68 ~ 69)]_12_\t상관관계가 있다\n",
      "p-value = 0.06117846113468552\n",
      "[L.부동산업 및 임대업 (68 ~ 69)]_130_\t상관관계가 없다\n"
     ]
    },
    {
     "data": {
      "image/png": "[encoded data removed]",
      "text/plain": [
       "<Figure size 432x288 with 1 Axes>"
      ]
     },
     "metadata": {
      "needs_background": "light"
     },
     "output_type": "display_data"
    },
    {
     "name": "stdout",
     "output_type": "stream",
     "text": [
      "p-value = 5.794654046742276e-08\n",
      "[L.부동산업 및 임대업 (68 ~ 69)]_1319_\t상관관계가 있다\n",
      "p-value = 0.00010928149918942177\n",
      "[L.부동산업 및 임대업 (68 ~ 69)]_1320_\t상관관계가 있다\n",
      "p-value = 0.00014982226150779562\n",
      "[L.부동산업 및 임대업 (68 ~ 69)]_1321_\t상관관계가 있다\n",
      "p-value = 3.2448292504605735e-17\n",
      "[L.부동산업 및 임대업 (68 ~ 69)]_1333_\t상관관계가 있다\n",
      "p-value = 4.016579123275234e-11\n",
      "[L.부동산업 및 임대업 (68 ~ 69)]_133_\t상관관계가 있다\n",
      "p-value = 3.3386039634520956e-06\n",
      "[L.부동산업 및 임대업 (68 ~ 69)]_1355_\t상관관계가 있다\n",
      "p-value = 0.19050553588565602\n",
      "[L.부동산업 및 임대업 (68 ~ 69)]_135_\t상관관계가 없다\n"
     ]
    },
    {
     "data": {
      "image/png": "[encoded data removed]",
      "text/plain": [
       "<Figure size 432x288 with 1 Axes>"
      ]
     },
     "metadata": {
      "needs_background": "light"
     },
     "output_type": "display_data"
    },
    {
     "name": "stdout",
     "output_type": "stream",
     "text": [
      "165 done\r",
      "p-value = 1.2304438449445972e-16\n",
      "[L.부동산업 및 임대업 (68 ~ 69)]_1369_\t상관관계가 있다\n",
      "166 done\r",
      "p-value = 0.6333582523656781\n",
      "[L.부동산업 및 임대업 (68 ~ 69)]_137_\t상관관계가 없다\n"
     ]
    },
    {
     "data": {
      "image/png": "[encoded data removed]",
      "text/plain": [
       "<Figure size 432x288 with 1 Axes>"
      ]
     },
     "metadata": {
      "needs_background": "light"
     },
     "output_type": "display_data"
    },
    {
     "name": "stdout",
     "output_type": "stream",
     "text": [
      "p-value = 0.0004883130838466602\n",
      "[L.부동산업 및 임대업 (68 ~ 69)]_1395_\t상관관계가 있다\n",
      "p-value = 0.2733363287549914\n",
      "[L.부동산업 및 임대업 (68 ~ 69)]_139_\t상관관계가 없다\n"
     ]
    },
    {
     "data": {
      "image/png": "[encoded data removed]",
      "text/plain": [
       "<Figure size 432x288 with 1 Axes>"
      ]
     },
     "metadata": {
      "needs_background": "light"
     },
     "output_type": "display_data"
    },
    {
     "name": "stdout",
     "output_type": "stream",
     "text": [
      "p-value = 6.940166739095972e-15\n",
      "[L.부동산업 및 임대업 (68 ~ 69)]_13_\t상관관계가 있다\n",
      "p-value = 0.0004619821436009281\n",
      "[L.부동산업 및 임대업 (68 ~ 69)]_1401_\t상관관계가 있다\n",
      "p-value = 1.068788612378646e-06\n",
      "[L.부동산업 및 임대업 (68 ~ 69)]_1402_\t상관관계가 있다\n",
      "p-value = 4.886210002348557e-12\n",
      "[L.부동산업 및 임대업 (68 ~ 69)]_141_\t상관관계가 있다\n",
      "p-value = 2.6457612472605993e-22\n",
      "[L.부동산업 및 임대업 (68 ~ 69)]_1425_\t상관관계가 있다\n",
      "p-value = 0.009953145710196303\n",
      "[L.부동산업 및 임대업 (68 ~ 69)]_1426_\t상관관계가 있다\n",
      "p-value = 1.075271099362576e-07\n",
      "[L.부동산업 및 임대업 (68 ~ 69)]_1427_\t상관관계가 있다\n",
      "p-value = 5.555412874572403e-12\n",
      "[L.부동산업 및 임대업 (68 ~ 69)]_1432_\t상관관계가 있다\n",
      "p-value = 2.9544333865265403e-13\n",
      "[L.부동산업 및 임대업 (68 ~ 69)]_1437_\t상관관계가 있다\n",
      "p-value = 0.7458550953375201\n",
      "[L.부동산업 및 임대업 (68 ~ 69)]_1441_\t상관관계가 없다\n"
     ]
    },
    {
     "data": {
      "image/png": "[encoded data removed]",
      "text/plain": [
       "<Figure size 432x288 with 1 Axes>"
      ]
     },
     "metadata": {
      "needs_background": "light"
     },
     "output_type": "display_data"
    },
    {
     "name": "stdout",
     "output_type": "stream",
     "text": [
      "p-value = 1.011358408319861e-06\n",
      "[L.부동산업 및 임대업 (68 ~ 69)]_1449_\t상관관계가 있다\n",
      "p-value = 0.14508318326821895\n",
      "[L.부동산업 및 임대업 (68 ~ 69)]_144_\t상관관계가 없다\n"
     ]
    },
    {
     "data": {
      "image/png": "[encoded data removed]",
      "text/plain": [
       "<Figure size 432x288 with 1 Axes>"
      ]
     },
     "metadata": {
      "needs_background": "light"
     },
     "output_type": "display_data"
    },
    {
     "name": "stdout",
     "output_type": "stream",
     "text": [
      "p-value = 2.6351673818255334e-14\n",
      "[L.부동산업 및 임대업 (68 ~ 69)]_1451_\t상관관계가 있다\n",
      "p-value = 1.359912759902095e-14\n",
      "[L.부동산업 및 임대업 (68 ~ 69)]_1453_\t상관관계가 있다\n",
      "p-value = 7.521864799615808e-12\n",
      "[L.부동산업 및 임대업 (68 ~ 69)]_1456_\t상관관계가 있다\n",
      "p-value = 2.8812868901239426e-05\n",
      "[L.부동산업 및 임대업 (68 ~ 69)]_145_\t상관관계가 있다\n",
      "p-value = 0.00035974201424435285\n",
      "[L.부동산업 및 임대업 (68 ~ 69)]_1469_\t상관관계가 있다\n",
      "p-value = 0.8781698164627042\n",
      "[L.부동산업 및 임대업 (68 ~ 69)]_146_\t상관관계가 없다\n"
     ]
    },
    {
     "data": {
      "image/png": "[encoded data removed]",
      "text/plain": [
       "<Figure size 432x288 with 1 Axes>"
      ]
     },
     "metadata": {
      "needs_background": "light"
     },
     "output_type": "display_data"
    },
    {
     "name": "stdout",
     "output_type": "stream",
     "text": [
      "p-value = 0.018200628458608665\n",
      "[L.부동산업 및 임대업 (68 ~ 69)]_147_\t상관관계가 있다\n",
      "p-value = 0.00045258677943365845\n",
      "[L.부동산업 및 임대업 (68 ~ 69)]_1482_\t상관관계가 있다\n",
      "p-value = 3.8016582332735354e-05\n",
      "[L.부동산업 및 임대업 (68 ~ 69)]_1485_\t상관관계가 있다\n",
      "p-value = 1.541834957613638e-14\n",
      "[L.부동산업 및 임대업 (68 ~ 69)]_1504_\t상관관계가 있다\n",
      "p-value = 0.003793271173683506\n",
      "[L.부동산업 및 임대업 (68 ~ 69)]_1513_\t상관관계가 있다\n",
      "p-value = 0.0001749668855612498\n",
      "[L.부동산업 및 임대업 (68 ~ 69)]_152_\t상관관계가 있다\n",
      "p-value = 1.6405340686530678e-06\n",
      "[L.부동산업 및 임대업 (68 ~ 69)]_153_\t상관관계가 있다\n",
      "p-value = 3.3428468631292283e-07\n",
      "[L.부동산업 및 임대업 (68 ~ 69)]_1541_\t상관관계가 있다\n",
      "p-value = 8.250877424156927e-07\n",
      "[L.부동산업 및 임대업 (68 ~ 69)]_154_\t상관관계가 있다\n",
      "p-value = 3.6785667378223207e-13\n",
      "[L.부동산업 및 임대업 (68 ~ 69)]_1554_\t상관관계가 있다\n",
      "p-value = 8.245128888329465e-15\n",
      "[L.부동산업 및 임대업 (68 ~ 69)]_1577_\t상관관계가 있다\n",
      "p-value = 4.516692285902056e-18\n",
      "[L.부동산업 및 임대업 (68 ~ 69)]_1588_\t상관관계가 있다\n",
      "p-value = 0.06433886750413738\n",
      "[L.부동산업 및 임대업 (68 ~ 69)]_159_\t상관관계가 없다\n"
     ]
    },
    {
     "data": {
      "image/png": "[encoded data removed]",
      "text/plain": [
       "<Figure size 432x288 with 1 Axes>"
      ]
     },
     "metadata": {
      "needs_background": "light"
     },
     "output_type": "display_data"
    },
    {
     "name": "stdout",
     "output_type": "stream",
     "text": [
      "p-value = 0.01003856490792084\n",
      "[L.부동산업 및 임대업 (68 ~ 69)]_1610_\t상관관계가 있다\n",
      "p-value = 3.742630665897279e-05\n",
      "[L.부동산업 및 임대업 (68 ~ 69)]_1634_\t상관관계가 있다\n",
      "p-value = 0.021459937218488684\n",
      "[L.부동산업 및 임대업 (68 ~ 69)]_163_\t상관관계가 있다\n",
      "p-value = 3.1664853703303526e-24\n",
      "[L.부동산업 및 임대업 (68 ~ 69)]_1644_\t상관관계가 있다\n",
      "p-value = 0.01545930580489106\n",
      "[L.부동산업 및 임대업 (68 ~ 69)]_1647_\t상관관계가 있다\n",
      "p-value = 0.0018251693394365066\n",
      "[L.부동산업 및 임대업 (68 ~ 69)]_1652_\t상관관계가 있다\n",
      "p-value = 0.007995266640942864\n",
      "[L.부동산업 및 임대업 (68 ~ 69)]_1657_\t상관관계가 있다\n",
      "p-value = 5.624170832974363e-13\n",
      "[L.부동산업 및 임대업 (68 ~ 69)]_1659_\t상관관계가 있다\n",
      "p-value = 0.005799033935823124\n",
      "[L.부동산업 및 임대업 (68 ~ 69)]_165_\t상관관계가 있다\n",
      "p-value = 2.571688444333867e-06\n",
      "[L.부동산업 및 임대업 (68 ~ 69)]_1662_\t상관관계가 있다\n",
      "p-value = 2.811880100845284e-11\n",
      "[L.부동산업 및 임대업 (68 ~ 69)]_1664_\t상관관계가 있다\n",
      "p-value = 1.7987257793807338e-13\n",
      "[L.부동산업 및 임대업 (68 ~ 69)]_1666_\t상관관계가 있다\n",
      "p-value = 0.006762654128564454\n",
      "[L.부동산업 및 임대업 (68 ~ 69)]_166_\t상관관계가 있다\n",
      "p-value = 2.1531191024017165e-05\n",
      "[L.부동산업 및 임대업 (68 ~ 69)]_1671_\t상관관계가 있다\n",
      "p-value = 7.733704934011248e-09\n",
      "[L.부동산업 및 임대업 (68 ~ 69)]_1672_\t상관관계가 있다\n",
      "p-value = 1.6502203533658703e-06\n",
      "[L.부동산업 및 임대업 (68 ~ 69)]_1673_\t상관관계가 있다\n",
      "p-value = 0.008114902708970423\n",
      "[L.부동산업 및 임대업 (68 ~ 69)]_1674_\t상관관계가 있다\n",
      "p-value = 1.0662237481162353e-05\n",
      "[L.부동산업 및 임대업 (68 ~ 69)]_1678_\t상관관계가 있다\n",
      "p-value = 1.5980208579402212e-09\n",
      "[L.부동산업 및 임대업 (68 ~ 69)]_1680_\t상관관계가 있다\n",
      "p-value = 7.244522326076324e-07\n",
      "[L.부동산업 및 임대업 (68 ~ 69)]_1681_\t상관관계가 있다\n",
      "p-value = 6.350061032279085e-09\n",
      "[L.부동산업 및 임대업 (68 ~ 69)]_1686_\t상관관계가 있다\n",
      "p-value = 4.365949705528618e-05\n",
      "[L.부동산업 및 임대업 (68 ~ 69)]_1687_\t상관관계가 있다\n",
      "p-value = 1.0592835143163958e-14\n",
      "[L.부동산업 및 임대업 (68 ~ 69)]_1688_\t상관관계가 있다\n",
      "p-value = 6.329398464733585e-09\n",
      "[L.부동산업 및 임대업 (68 ~ 69)]_1692_\t상관관계가 있다\n",
      "p-value = 1.730889998529906e-08\n",
      "[L.부동산업 및 임대업 (68 ~ 69)]_1696_\t상관관계가 있다\n",
      "p-value = 2.0659679635261596e-05\n",
      "[L.부동산업 및 임대업 (68 ~ 69)]_1699_\t상관관계가 있다\n",
      "p-value = 0.0004015026282425201\n",
      "[L.부동산업 및 임대업 (68 ~ 69)]_1700_\t상관관계가 있다\n",
      "p-value = 3.537323277946923e-06\n",
      "[L.부동산업 및 임대업 (68 ~ 69)]_1702_\t상관관계가 있다\n",
      "p-value = 5.99023263111331e-14\n",
      "[L.부동산업 및 임대업 (68 ~ 69)]_1703_\t상관관계가 있다\n",
      "p-value = 1.6627391304488215e-14\n",
      "[L.부동산업 및 임대업 (68 ~ 69)]_1708_\t상관관계가 있다\n",
      "p-value = 8.570869792595979e-07\n",
      "[L.부동산업 및 임대업 (68 ~ 69)]_170_\t상관관계가 있다\n",
      "p-value = 6.35761449552717e-20\n",
      "[L.부동산업 및 임대업 (68 ~ 69)]_1718_\t상관관계가 있다\n",
      "p-value = 7.6058301151095225e-19\n",
      "[L.부동산업 및 임대업 (68 ~ 69)]_171_\t상관관계가 있다\n",
      "p-value = 2.5009835303903674e-10\n",
      "[L.부동산업 및 임대업 (68 ~ 69)]_172_\t상관관계가 있다\n",
      "p-value = 0.017618734034161466\n",
      "[L.부동산업 및 임대업 (68 ~ 69)]_1731_\t상관관계가 있다\n",
      "p-value = 2.4461082316227093e-09\n",
      "[L.부동산업 및 임대업 (68 ~ 69)]_1732_\t상관관계가 있다\n",
      "p-value = 4.631426518974819e-08\n",
      "[L.부동산업 및 임대업 (68 ~ 69)]_1735_\t상관관계가 있다\n",
      "p-value = 1.5012437371820054e-05\n",
      "[L.부동산업 및 임대업 (68 ~ 69)]_1738_\t상관관계가 있다\n",
      "p-value = 2.174656439091058e-07\n",
      "[L.부동산업 및 임대업 (68 ~ 69)]_1739_\t상관관계가 있다\n",
      "p-value = 0.0009846538547515988\n",
      "[L.부동산업 및 임대업 (68 ~ 69)]_173_\t상관관계가 있다\n",
      "p-value = 8.195317828076667e-10\n",
      "[L.부동산업 및 임대업 (68 ~ 69)]_1740_\t상관관계가 있다\n",
      "p-value = 3.78515433027562e-07\n",
      "[L.부동산업 및 임대업 (68 ~ 69)]_1746_\t상관관계가 있다\n",
      "p-value = 0.00018841675122571375\n",
      "[L.부동산업 및 임대업 (68 ~ 69)]_1747_\t상관관계가 있다\n",
      "p-value = 0.0001755709322076068\n",
      "[L.부동산업 및 임대업 (68 ~ 69)]_1749_\t상관관계가 있다\n",
      "p-value = 1.5203666631356388e-12\n",
      "[L.부동산업 및 임대업 (68 ~ 69)]_174_\t상관관계가 있다\n",
      "p-value = 0.02118586637046849\n",
      "[L.부동산업 및 임대업 (68 ~ 69)]_175_\t상관관계가 있다\n",
      "p-value = 3.2565552156861165e-05\n",
      "[L.부동산업 및 임대업 (68 ~ 69)]_176_\t상관관계가 있다\n",
      "p-value = 1.2323904556553078e-15\n",
      "[L.부동산업 및 임대업 (68 ~ 69)]_1772_\t상관관계가 있다\n",
      "p-value = 9.984983910596218e-14\n",
      "[L.부동산업 및 임대업 (68 ~ 69)]_1773_\t상관관계가 있다\n",
      "p-value = 1.691590836265204e-18\n",
      "[L.부동산업 및 임대업 (68 ~ 69)]_1774_\t상관관계가 있다\n",
      "p-value = 1.8691750138587725e-11\n",
      "[L.부동산업 및 임대업 (68 ~ 69)]_1776_\t상관관계가 있다\n",
      "p-value = 0.16270577972927214\n",
      "[L.부동산업 및 임대업 (68 ~ 69)]_177_\t상관관계가 없다\n"
     ]
    },
    {
     "data": {
      "image/png": "[encoded data removed]",
      "text/plain": [
       "<Figure size 432x288 with 1 Axes>"
      ]
     },
     "metadata": {
      "needs_background": "light"
     },
     "output_type": "display_data"
    },
    {
     "name": "stdout",
     "output_type": "stream",
     "text": [
      "252 done\r",
      "p-value = 9.140496936088518e-13\n",
      "[L.부동산업 및 임대업 (68 ~ 69)]_1780_\t상관관계가 있다\n",
      "253 done\r",
      "p-value = 7.074703886641549e-12\n",
      "[L.부동산업 및 임대업 (68 ~ 69)]_1786_\t상관관계가 있다\n",
      "254 done\r",
      "p-value = 1.652991028594449e-07\n",
      "[L.부동산업 및 임대업 (68 ~ 69)]_1789_\t상관관계가 있다\n",
      "255 done\r",
      "p-value = 2.6248059159898495e-17\n",
      "[L.부동산업 및 임대업 (68 ~ 69)]_1790_\t상관관계가 있다\n",
      "256 done\r",
      "p-value = 8.112098285769175e-06\n",
      "[L.부동산업 및 임대업 (68 ~ 69)]_1794_\t상관관계가 있다\n",
      "257 done\r",
      "p-value = 1.3015011200854231e-05\n",
      "[L.부동산업 및 임대업 (68 ~ 69)]_1795_\t상관관계가 있다\n",
      "258 done\r",
      "p-value = 3.356391923960817e-05\n",
      "[L.부동산업 및 임대업 (68 ~ 69)]_1796_\t상관관계가 있다\n",
      "259 done\r",
      "p-value = 0.7829612099343751\n",
      "[L.부동산업 및 임대업 (68 ~ 69)]_1797_\t상관관계가 없다\n"
     ]
    },
    {
     "data": {
      "image/png": "[encoded data removed]",
      "text/plain": [
       "<Figure size 432x288 with 1 Axes>"
      ]
     },
     "metadata": {
      "needs_background": "light"
     },
     "output_type": "display_data"
    },
    {
     "name": "stdout",
     "output_type": "stream",
     "text": [
      "260 done\r",
      "p-value = 2.99832156559308e-07\n",
      "[L.부동산업 및 임대업 (68 ~ 69)]_1798_\t상관관계가 있다\n",
      "261 done\r",
      "p-value = 1.3195928357538557e-12\n",
      "[L.부동산업 및 임대업 (68 ~ 69)]_1800_\t상관관계가 있다\n",
      "262 done\r",
      "p-value = 0.07606890160761065\n",
      "[L.부동산업 및 임대업 (68 ~ 69)]_1801_\t상관관계가 없다\n"
     ]
    },
    {
     "data": {
      "image/png": "[encoded data removed]",
      "text/plain": [
       "<Figure size 432x288 with 1 Axes>"
      ]
     },
     "metadata": {
      "needs_background": "light"
     },
     "output_type": "display_data"
    },
    {
     "name": "stdout",
     "output_type": "stream",
     "text": [
      "p-value = 1.1745157284669685e-08\n",
      "[L.부동산업 및 임대업 (68 ~ 69)]_1803_\t상관관계가 있다\n",
      "p-value = 6.809239954990148e-11\n",
      "[L.부동산업 및 임대업 (68 ~ 69)]_1806_\t상관관계가 있다\n",
      "p-value = 7.295297120095992e-07\n",
      "[L.부동산업 및 임대업 (68 ~ 69)]_1811_\t상관관계가 있다\n",
      "p-value = 2.4219386642468518e-06\n",
      "[L.부동산업 및 임대업 (68 ~ 69)]_181_\t상관관계가 있다\n",
      "p-value = 2.4006932325171186e-11\n",
      "[L.부동산업 및 임대업 (68 ~ 69)]_1823_\t상관관계가 있다\n",
      "p-value = 5.962366287490607e-21\n",
      "[L.부동산업 및 임대업 (68 ~ 69)]_1824_\t상관관계가 있다\n",
      "p-value = 8.245201044965228e-25\n",
      "[L.부동산업 및 임대업 (68 ~ 69)]_1831_\t상관관계가 있다\n",
      "p-value = 6.987298147190567e-12\n",
      "[L.부동산업 및 임대업 (68 ~ 69)]_183_\t상관관계가 있다\n",
      "p-value = 3.0725237430963382e-09\n",
      "[L.부동산업 및 임대업 (68 ~ 69)]_185_\t상관관계가 있다\n",
      "p-value = 9.679218116661938e-16\n",
      "[L.부동산업 및 임대업 (68 ~ 69)]_1867_\t상관관계가 있다\n",
      "p-value = 0.00013379028586918702\n",
      "[L.부동산업 및 임대업 (68 ~ 69)]_186_\t상관관계가 있다\n",
      "p-value = 1.002245447978496e-15\n",
      "[L.부동산업 및 임대업 (68 ~ 69)]_1874_\t상관관계가 있다\n",
      "p-value = 0.0018260330418825796\n",
      "[L.부동산업 및 임대업 (68 ~ 69)]_1876_\t상관관계가 있다\n",
      "p-value = 0.10958821866897447\n",
      "[L.부동산업 및 임대업 (68 ~ 69)]_187_\t상관관계가 없다\n"
     ]
    },
    {
     "data": {
      "image/png": "[encoded data removed]",
      "text/plain": [
       "<Figure size 432x288 with 1 Axes>"
      ]
     },
     "metadata": {
      "needs_background": "light"
     },
     "output_type": "display_data"
    },
    {
     "name": "stdout",
     "output_type": "stream",
     "text": [
      "277 done\r",
      "p-value = 4.2521230825470087e-13\n",
      "[L.부동산업 및 임대업 (68 ~ 69)]_1880_\t상관관계가 있다\n",
      "278 done\r",
      "p-value = 4.43984210879847e-09\n",
      "[L.부동산업 및 임대업 (68 ~ 69)]_1883_\t상관관계가 있다\n",
      "279 done\r",
      "p-value = 9.79358153961062e-22\n",
      "[L.부동산업 및 임대업 (68 ~ 69)]_1884_\t상관관계가 있다\n",
      "280 done\r",
      "p-value = 0.05040514801466668\n",
      "[L.부동산업 및 임대업 (68 ~ 69)]_1886_\t상관관계가 없다\n"
     ]
    },
    {
     "data": {
      "image/png": "[encoded data removed]",
      "text/plain": [
       "<Figure size 432x288 with 1 Axes>"
      ]
     },
     "metadata": {
      "needs_background": "light"
     },
     "output_type": "display_data"
    },
    {
     "name": "stdout",
     "output_type": "stream",
     "text": [
      "281 done\r",
      "p-value = 0.5159372860121284\n",
      "[L.부동산업 및 임대업 (68 ~ 69)]_188_\t상관관계가 없다\n"
     ]
    },
    {
     "data": {
      "image/png": "[encoded data removed]",
      "text/plain": [
       "<Figure size 432x288 with 1 Axes>"
      ]
     },
     "metadata": {
      "needs_background": "light"
     },
     "output_type": "display_data"
    },
    {
     "name": "stdout",
     "output_type": "stream",
     "text": [
      "p-value = 6.102786912736095e-07\n",
      "[L.부동산업 및 임대업 (68 ~ 69)]_1903_\t상관관계가 있다\n",
      "p-value = 5.076299827726504e-10\n",
      "[L.부동산업 및 임대업 (68 ~ 69)]_1905_\t상관관계가 있다\n",
      "p-value = 5.520992783808359e-14\n",
      "[L.부동산업 및 임대업 (68 ~ 69)]_1912_\t상관관계가 있다\n",
      "p-value = 0.0007146788952941212\n",
      "[L.부동산업 및 임대업 (68 ~ 69)]_191_\t상관관계가 있다\n",
      "p-value = 1.0951999304803919e-07\n",
      "[L.부동산업 및 임대업 (68 ~ 69)]_1921_\t상관관계가 있다\n",
      "p-value = 9.730960073352472e-08\n",
      "[L.부동산업 및 임대업 (68 ~ 69)]_192_\t상관관계가 있다\n",
      "p-value = 9.880934592673825e-08\n",
      "[L.부동산업 및 임대업 (68 ~ 69)]_1930_\t상관관계가 있다\n",
      "p-value = 2.1191948778782377e-10\n",
      "[L.부동산업 및 임대업 (68 ~ 69)]_1933_\t상관관계가 있다\n",
      "p-value = 0.37271716206164285\n",
      "[L.부동산업 및 임대업 (68 ~ 69)]_1941_\t상관관계가 없다\n"
     ]
    },
    {
     "data": {
      "image/png": "[encoded data removed]",
      "text/plain": [
       "<Figure size 432x288 with 1 Axes>"
      ]
     },
     "metadata": {
      "needs_background": "light"
     },
     "output_type": "display_data"
    },
    {
     "name": "stdout",
     "output_type": "stream",
     "text": [
      "p-value = 0.0006169558448845351\n",
      "[L.부동산업 및 임대업 (68 ~ 69)]_1944_\t상관관계가 있다\n",
      "p-value = 4.197856473617539e-10\n",
      "[L.부동산업 및 임대업 (68 ~ 69)]_1945_\t상관관계가 있다\n",
      "p-value = 3.9908803413925305e-09\n",
      "[L.부동산업 및 임대업 (68 ~ 69)]_1950_\t상관관계가 있다\n",
      "p-value = 0.0027921523547300886\n",
      "[L.부동산업 및 임대업 (68 ~ 69)]_1953_\t상관관계가 있다\n",
      "p-value = 3.815380263484506e-09\n",
      "[L.부동산업 및 임대업 (68 ~ 69)]_1955_\t상관관계가 있다\n",
      "p-value = 3.791272465429766e-06\n",
      "[L.부동산업 및 임대업 (68 ~ 69)]_195_\t상관관계가 있다\n",
      "p-value = 5.0600214504074e-08\n",
      "[L.부동산업 및 임대업 (68 ~ 69)]_1960_\t상관관계가 있다\n",
      "p-value = 0.002031317839426944\n",
      "[L.부동산업 및 임대업 (68 ~ 69)]_1962_\t상관관계가 있다\n",
      "p-value = 1.482224742661586e-21\n",
      "[L.부동산업 및 임대업 (68 ~ 69)]_1966_\t상관관계가 있다\n",
      "p-value = 6.228767754985473e-14\n",
      "[L.부동산업 및 임대업 (68 ~ 69)]_1967_\t상관관계가 있다\n",
      "p-value = 2.4126977948596493e-09\n",
      "[L.부동산업 및 임대업 (68 ~ 69)]_1968_\t상관관계가 있다\n",
      "p-value = 0.0007403656465639008\n",
      "[L.부동산업 및 임대업 (68 ~ 69)]_1969_\t상관관계가 있다\n",
      "p-value = 9.793472378246623e-05\n",
      "[L.부동산업 및 임대업 (68 ~ 69)]_196_\t상관관계가 있다\n",
      "p-value = 1.1629294582494343e-29\n",
      "[L.부동산업 및 임대업 (68 ~ 69)]_1977_\t상관관계가 있다\n",
      "p-value = 0.0008779307378415588\n",
      "[L.부동산업 및 임대업 (68 ~ 69)]_197_\t상관관계가 있다\n",
      "p-value = 9.126848978404302e-06\n",
      "[L.부동산업 및 임대업 (68 ~ 69)]_1988_\t상관관계가 있다\n",
      "p-value = 5.797529082400761e-15\n",
      "[L.부동산업 및 임대업 (68 ~ 69)]_1990_\t상관관계가 있다\n",
      "p-value = 5.2557517100857845e-05\n",
      "[L.부동산업 및 임대업 (68 ~ 69)]_1999_\t상관관계가 있다\n",
      "p-value = 8.167290511882201e-07\n",
      "[L.부동산업 및 임대업 (68 ~ 69)]_1_\t상관관계가 있다\n",
      "p-value = 0.0002912046221363649\n",
      "[L.부동산업 및 임대업 (68 ~ 69)]_200_\t상관관계가 있다\n",
      "p-value = 0.00015908449561697892\n",
      "[L.부동산업 및 임대업 (68 ~ 69)]_2027_\t상관관계가 있다\n",
      "p-value = 1.972461704358522e-12\n",
      "[L.부동산업 및 임대업 (68 ~ 69)]_203_\t상관관계가 있다\n",
      "p-value = 9.828389556493458e-10\n",
      "[L.부동산업 및 임대업 (68 ~ 69)]_2048_\t상관관계가 있다\n",
      "p-value = 3.690761108135645e-08\n",
      "[L.부동산업 및 임대업 (68 ~ 69)]_2049_\t상관관계가 있다\n",
      "p-value = 1.5044761144619787e-05\n",
      "[L.부동산업 및 임대업 (68 ~ 69)]_2051_\t상관관계가 있다\n",
      "p-value = 5.643430530038782e-06\n",
      "[L.부동산업 및 임대업 (68 ~ 69)]_2052_\t상관관계가 있다\n",
      "p-value = 3.0167505961767883e-07\n",
      "[L.부동산업 및 임대업 (68 ~ 69)]_2058_\t상관관계가 있다\n",
      "p-value = 6.930183598656774e-10\n",
      "[L.부동산업 및 임대업 (68 ~ 69)]_2060_\t상관관계가 있다\n",
      "p-value = 1.0520706018937373e-06\n",
      "[L.부동산업 및 임대업 (68 ~ 69)]_2063_\t상관관계가 있다\n",
      "p-value = 2.182622530934171e-31\n",
      "[L.부동산업 및 임대업 (68 ~ 69)]_2069_\t상관관계가 있다\n",
      "p-value = 0.19877151774030055\n",
      "[L.부동산업 및 임대업 (68 ~ 69)]_206_\t상관관계가 없다\n"
     ]
    },
    {
     "data": {
      "image/png": "[encoded data removed]",
      "text/plain": [
       "<Figure size 432x288 with 1 Axes>"
      ]
     },
     "metadata": {
      "needs_background": "light"
     },
     "output_type": "display_data"
    },
    {
     "name": "stdout",
     "output_type": "stream",
     "text": [
      "322 done\r",
      "p-value = 0.2808375183995239\n",
      "[L.부동산업 및 임대업 (68 ~ 69)]_2071_\t상관관계가 없다\n"
     ]
    },
    {
     "data": {
      "image/png": "[encoded data removed]",
      "text/plain": [
       "<Figure size 432x288 with 1 Axes>"
      ]
     },
     "metadata": {
      "needs_background": "light"
     },
     "output_type": "display_data"
    },
    {
     "name": "stdout",
     "output_type": "stream",
     "text": [
      "p-value = 4.2181701326992755e-08\n",
      "[L.부동산업 및 임대업 (68 ~ 69)]_2073_\t상관관계가 있다\n",
      "p-value = 0.00015184146774784173\n",
      "[L.부동산업 및 임대업 (68 ~ 69)]_2077_\t상관관계가 있다\n",
      "p-value = 3.239496455081678e-12\n",
      "[L.부동산업 및 임대업 (68 ~ 69)]_208_\t상관관계가 있다\n",
      "p-value = 0.0005207384713616025\n",
      "[L.부동산업 및 임대업 (68 ~ 69)]_209_\t상관관계가 있다\n",
      "p-value = 4.839490192684505e-13\n",
      "[L.부동산업 및 임대업 (68 ~ 69)]_2100_\t상관관계가 있다\n",
      "p-value = 1.6784674399050524e-07\n",
      "[L.부동산업 및 임대업 (68 ~ 69)]_2111_\t상관관계가 있다\n",
      "p-value = 1.705712618612977e-05\n",
      "[L.부동산업 및 임대업 (68 ~ 69)]_211_\t상관관계가 있다\n",
      "p-value = 8.982803383404116e-08\n",
      "[L.부동산업 및 임대업 (68 ~ 69)]_2121_\t상관관계가 있다\n",
      "p-value = 1.6403891403577905e-06\n",
      "[L.부동산업 및 임대업 (68 ~ 69)]_212_\t상관관계가 있다\n",
      "p-value = 7.5963923177159175e-28\n",
      "[L.부동산업 및 임대업 (68 ~ 69)]_2132_\t상관관계가 있다\n",
      "p-value = 1.752988645787137e-08\n",
      "[L.부동산업 및 임대업 (68 ~ 69)]_213_\t상관관계가 있다\n",
      "p-value = 1.0847737199679396e-12\n",
      "[L.부동산업 및 임대업 (68 ~ 69)]_2144_\t상관관계가 있다\n",
      "p-value = 5.1231725031743706e-05\n",
      "[L.부동산업 및 임대업 (68 ~ 69)]_2151_\t상관관계가 있다\n",
      "p-value = 1.2326634565515254e-11\n",
      "[L.부동산업 및 임대업 (68 ~ 69)]_2152_\t상관관계가 있다\n",
      "p-value = 3.2172272103897084e-13\n",
      "[L.부동산업 및 임대업 (68 ~ 69)]_215_\t상관관계가 있다\n",
      "p-value = 2.885539131196594e-06\n",
      "[L.부동산업 및 임대업 (68 ~ 69)]_2165_\t상관관계가 있다\n",
      "p-value = 1.0322040153826258e-12\n",
      "[L.부동산업 및 임대업 (68 ~ 69)]_2166_\t상관관계가 있다\n",
      "p-value = 2.4967377662068747e-08\n",
      "[L.부동산업 및 임대업 (68 ~ 69)]_2169_\t상관관계가 있다\n",
      "p-value = 1.060535438416154e-08\n",
      "[L.부동산업 및 임대업 (68 ~ 69)]_21_\t상관관계가 있다\n",
      "p-value = 1.0709779784187211e-13\n",
      "[L.부동산업 및 임대업 (68 ~ 69)]_2209_\t상관관계가 있다\n",
      "p-value = 3.75908035915203e-08\n",
      "[L.부동산업 및 임대업 (68 ~ 69)]_220_\t상관관계가 있다\n",
      "p-value = 0.001204145444972472\n",
      "[L.부동산업 및 임대업 (68 ~ 69)]_2211_\t상관관계가 있다\n",
      "p-value = 0.05549107357710663\n",
      "[L.부동산업 및 임대업 (68 ~ 69)]_2218_\t상관관계가 없다\n"
     ]
    },
    {
     "data": {
      "image/png": "[encoded data removed]",
      "text/plain": [
       "<Figure size 432x288 with 1 Axes>"
      ]
     },
     "metadata": {
      "needs_background": "light"
     },
     "output_type": "display_data"
    },
    {
     "name": "stdout",
     "output_type": "stream",
     "text": [
      "p-value = 0.0003011982694994128\n",
      "[L.부동산업 및 임대업 (68 ~ 69)]_221_\t상관관계가 있다\n",
      "p-value = 1.003656263820818e-14\n",
      "[L.부동산업 및 임대업 (68 ~ 69)]_2222_\t상관관계가 있다\n",
      "p-value = 1.8492591337140158e-14\n",
      "[L.부동산업 및 임대업 (68 ~ 69)]_222_\t상관관계가 있다\n",
      "p-value = 2.7900086917047604e-18\n",
      "[L.부동산업 및 임대업 (68 ~ 69)]_2230_\t상관관계가 있다\n",
      "p-value = 1.872429060473944e-06\n",
      "[L.부동산업 및 임대업 (68 ~ 69)]_223_\t상관관계가 있다\n",
      "p-value = 2.1686654999861818e-16\n",
      "[L.부동산업 및 임대업 (68 ~ 69)]_2244_\t상관관계가 있다\n",
      "p-value = 6.646564998819347e-11\n",
      "[L.부동산업 및 임대업 (68 ~ 69)]_224_\t상관관계가 있다\n",
      "p-value = 6.176418817108601e-10\n",
      "[L.부동산업 및 임대업 (68 ~ 69)]_226_\t상관관계가 있다\n",
      "p-value = 1.476919738892695e-09\n",
      "[L.부동산업 및 임대업 (68 ~ 69)]_228_\t상관관계가 있다\n",
      "p-value = 4.1622508523397226e-14\n",
      "[L.부동산업 및 임대업 (68 ~ 69)]_230_\t상관관계가 있다\n",
      "p-value = 0.014238248188613765\n",
      "[L.부동산업 및 임대업 (68 ~ 69)]_231_\t상관관계가 있다\n",
      "p-value = 1.0785376142390929e-05\n",
      "[L.부동산업 및 임대업 (68 ~ 69)]_2321_\t상관관계가 있다\n",
      "p-value = 2.00846799743227e-15\n",
      "[L.부동산업 및 임대업 (68 ~ 69)]_2334_\t상관관계가 있다\n",
      "p-value = 1.9765331461570532e-14\n",
      "[L.부동산업 및 임대업 (68 ~ 69)]_233_\t상관관계가 있다\n",
      "p-value = 2.2786195110640943e-16\n",
      "[L.부동산업 및 임대업 (68 ~ 69)]_234_\t상관관계가 있다\n",
      "p-value = 4.463139123696712e-05\n",
      "[L.부동산업 및 임대업 (68 ~ 69)]_2351_\t상관관계가 있다\n",
      "p-value = 2.106687200488126e-15\n",
      "[L.부동산업 및 임대업 (68 ~ 69)]_2354_\t상관관계가 있다\n",
      "p-value = 1.2706971605359624e-08\n",
      "[L.부동산업 및 임대업 (68 ~ 69)]_235_\t상관관계가 있다\n",
      "p-value = 1.4153761111170384e-06\n",
      "[L.부동산업 및 임대업 (68 ~ 69)]_2364_\t상관관계가 있다\n",
      "p-value = 1.2305529096357155e-10\n",
      "[L.부동산업 및 임대업 (68 ~ 69)]_236_\t상관관계가 있다\n",
      "p-value = 2.7499794519432987e-07\n",
      "[L.부동산업 및 임대업 (68 ~ 69)]_2379_\t상관관계가 있다\n",
      "p-value = 0.015731286625943867\n",
      "[L.부동산업 및 임대업 (68 ~ 69)]_237_\t상관관계가 있다\n",
      "p-value = 0.0023712915387139703\n",
      "[L.부동산업 및 임대업 (68 ~ 69)]_238_\t상관관계가 있다\n",
      "p-value = 0.046668354813241004\n",
      "[L.부동산업 및 임대업 (68 ~ 69)]_239_\t상관관계가 있다\n",
      "p-value = 0.025519916734427325\n",
      "[L.부동산업 및 임대업 (68 ~ 69)]_2407_\t상관관계가 있다\n",
      "p-value = 3.1210393582091965e-06\n",
      "[L.부동산업 및 임대업 (68 ~ 69)]_2414_\t상관관계가 있다\n",
      "p-value = 0.0009784580208987174\n",
      "[L.부동산업 및 임대업 (68 ~ 69)]_2418_\t상관관계가 있다\n",
      "p-value = 0.010014826305008953\n",
      "[L.부동산업 및 임대업 (68 ~ 69)]_2419_\t상관관계가 있다\n",
      "p-value = 0.04433044486127598\n",
      "[L.부동산업 및 임대업 (68 ~ 69)]_241_\t상관관계가 있다\n",
      "p-value = 1.026760204791018e-08\n",
      "[L.부동산업 및 임대업 (68 ~ 69)]_242_\t상관관계가 있다\n",
      "p-value = 2.2507966681093412e-05\n",
      "[L.부동산업 및 임대업 (68 ~ 69)]_243_\t상관관계가 있다\n",
      "p-value = 1.67486180079093e-11\n",
      "[L.부동산업 및 임대업 (68 ~ 69)]_245_\t상관관계가 있다\n",
      "p-value = 0.0018064914645649231\n",
      "[L.부동산업 및 임대업 (68 ~ 69)]_247_\t상관관계가 있다\n",
      "p-value = 1.7216616950135526e-05\n",
      "[L.부동산업 및 임대업 (68 ~ 69)]_248_\t상관관계가 있다\n",
      "p-value = 7.796934510096684e-21\n",
      "[L.부동산업 및 임대업 (68 ~ 69)]_249_\t상관관계가 있다\n",
      "p-value = 7.030998717703372e-20\n",
      "[L.부동산업 및 임대업 (68 ~ 69)]_24_\t상관관계가 있다\n",
      "p-value = 0.0024189921701630646\n",
      "[L.부동산업 및 임대업 (68 ~ 69)]_252_\t상관관계가 있다\n",
      "p-value = 0.00018805065651384396\n",
      "[L.부동산업 및 임대업 (68 ~ 69)]_253_\t상관관계가 있다\n",
      "p-value = 0.12856450919523282\n",
      "[L.부동산업 및 임대업 (68 ~ 69)]_254_\t상관관계가 없다\n"
     ]
    },
    {
     "data": {
      "image/png": "[encoded data removed]",
      "text/plain": [
       "<Figure size 432x288 with 1 Axes>"
      ]
     },
     "metadata": {
      "needs_background": "light"
     },
     "output_type": "display_data"
    },
    {
     "name": "stdout",
     "output_type": "stream",
     "text": [
      "p-value = 2.6639687898231603e-05\n",
      "[L.부동산업 및 임대업 (68 ~ 69)]_258_\t상관관계가 있다\n",
      "p-value = 0.00027514377023973705\n",
      "[L.부동산업 및 임대업 (68 ~ 69)]_259_\t상관관계가 있다\n",
      "p-value = 1.511408686384996e-13\n",
      "[L.부동산업 및 임대업 (68 ~ 69)]_25_\t상관관계가 있다\n",
      "p-value = 1.2166114647295587e-05\n",
      "[L.부동산업 및 임대업 (68 ~ 69)]_260_\t상관관계가 있다\n",
      "p-value = 3.636782096704696e-09\n",
      "[L.부동산업 및 임대업 (68 ~ 69)]_261_\t상관관계가 있다\n",
      "p-value = 6.417216206060185e-06\n",
      "[L.부동산업 및 임대업 (68 ~ 69)]_262_\t상관관계가 있다\n",
      "p-value = 3.127011332921067e-11\n",
      "[L.부동산업 및 임대업 (68 ~ 69)]_264_\t상관관계가 있다\n",
      "p-value = 6.276368487698533e-06\n",
      "[L.부동산업 및 임대업 (68 ~ 69)]_266_\t상관관계가 있다\n",
      "p-value = 1.9004265927743947e-12\n",
      "[L.부동산업 및 임대업 (68 ~ 69)]_267_\t상관관계가 있다\n",
      "p-value = 1.2155929158168256e-05\n",
      "[L.부동산업 및 임대업 (68 ~ 69)]_268_\t상관관계가 있다\n",
      "p-value = 2.8639736890989357e-09\n",
      "[L.부동산업 및 임대업 (68 ~ 69)]_26_\t상관관계가 있다\n",
      "p-value = 3.862683397890057e-11\n",
      "[L.부동산업 및 임대업 (68 ~ 69)]_270_\t상관관계가 있다\n",
      "p-value = 1.4306949351547336e-09\n",
      "[L.부동산업 및 임대업 (68 ~ 69)]_271_\t상관관계가 있다\n",
      "p-value = 1.306324369667249e-09\n",
      "[L.부동산업 및 임대업 (68 ~ 69)]_272_\t상관관계가 있다\n",
      "p-value = 1.192516679646339e-06\n",
      "[L.부동산업 및 임대업 (68 ~ 69)]_274_\t상관관계가 있다\n",
      "p-value = 0.0007812895822183107\n",
      "[L.부동산업 및 임대업 (68 ~ 69)]_275_\t상관관계가 있다\n",
      "p-value = 1.5179566087671667e-14\n",
      "[L.부동산업 및 임대업 (68 ~ 69)]_278_\t상관관계가 있다\n",
      "p-value = 0.505749150145812\n",
      "[L.부동산업 및 임대업 (68 ~ 69)]_27_\t상관관계가 없다\n"
     ]
    },
    {
     "data": {
      "image/png": "[encoded data removed]",
      "text/plain": [
       "<Figure size 432x288 with 1 Axes>"
      ]
     },
     "metadata": {
      "needs_background": "light"
     },
     "output_type": "display_data"
    },
    {
     "name": "stdout",
     "output_type": "stream",
     "text": [
      "403 done\r",
      "p-value = 1.444931842320911e-09\n",
      "[L.부동산업 및 임대업 (68 ~ 69)]_282_\t상관관계가 있다\n",
      "404 done\r",
      "p-value = 0.13203558094393064\n",
      "[L.부동산업 및 임대업 (68 ~ 69)]_283_\t상관관계가 없다\n"
     ]
    },
    {
     "data": {
      "image/png": "[encoded data removed]",
      "text/plain": [
       "<Figure size 432x288 with 1 Axes>"
      ]
     },
     "metadata": {
      "needs_background": "light"
     },
     "output_type": "display_data"
    },
    {
     "name": "stdout",
     "output_type": "stream",
     "text": [
      "p-value = 1.050748320760354e-10\n",
      "[L.부동산업 및 임대업 (68 ~ 69)]_284_\t상관관계가 있다\n",
      "p-value = 0.0001412710910583513\n",
      "[L.부동산업 및 임대업 (68 ~ 69)]_285_\t상관관계가 있다\n",
      "p-value = 0.00030296447007309614\n",
      "[L.부동산업 및 임대업 (68 ~ 69)]_286_\t상관관계가 있다\n",
      "p-value = 0.00016730389342937212\n",
      "[L.부동산업 및 임대업 (68 ~ 69)]_287_\t상관관계가 있다\n",
      "p-value = 7.548684408940805e-18\n",
      "[L.부동산업 및 임대업 (68 ~ 69)]_288_\t상관관계가 있다\n",
      "p-value = 5.5847402259755735e-12\n",
      "[L.부동산업 및 임대업 (68 ~ 69)]_292_\t상관관계가 있다\n",
      "p-value = 1.8616472466514536e-06\n",
      "[L.부동산업 및 임대업 (68 ~ 69)]_293_\t상관관계가 있다\n",
      "p-value = 0.003500912982937203\n",
      "[L.부동산업 및 임대업 (68 ~ 69)]_295_\t상관관계가 있다\n",
      "p-value = 0.0020241994099272445\n",
      "[L.부동산업 및 임대업 (68 ~ 69)]_296_\t상관관계가 있다\n",
      "p-value = 2.0054491683340996e-12\n",
      "[L.부동산업 및 임대업 (68 ~ 69)]_298_\t상관관계가 있다\n",
      "p-value = 9.859782371650978e-15\n",
      "[L.부동산업 및 임대업 (68 ~ 69)]_29_\t상관관계가 있다\n",
      "p-value = 9.078783044388796e-06\n",
      "[L.부동산업 및 임대업 (68 ~ 69)]_2_\t상관관계가 있다\n",
      "p-value = 1.1041300107782676e-06\n",
      "[L.부동산업 및 임대업 (68 ~ 69)]_300_\t상관관계가 있다\n",
      "p-value = 2.1860651209541333e-06\n",
      "[L.부동산업 및 임대업 (68 ~ 69)]_302_\t상관관계가 있다\n",
      "p-value = 0.7249156478050197\n",
      "[L.부동산업 및 임대업 (68 ~ 69)]_303_\t상관관계가 없다\n"
     ]
    },
    {
     "data": {
      "image/png": "[encoded data removed]",
      "text/plain": [
       "<Figure size 432x288 with 1 Axes>"
      ]
     },
     "metadata": {
      "needs_background": "light"
     },
     "output_type": "display_data"
    },
    {
     "name": "stdout",
     "output_type": "stream",
     "text": [
      "p-value = 3.936147938465484e-09\n",
      "[L.부동산업 및 임대업 (68 ~ 69)]_304_\t상관관계가 있다\n",
      "p-value = 8.465741661752622e-08\n",
      "[L.부동산업 및 임대업 (68 ~ 69)]_305_\t상관관계가 있다\n",
      "p-value = 0.0017813565099148642\n",
      "[L.부동산업 및 임대업 (68 ~ 69)]_306_\t상관관계가 있다\n",
      "p-value = 2.7546899866127526e-05\n",
      "[L.부동산업 및 임대업 (68 ~ 69)]_307_\t상관관계가 있다\n",
      "p-value = 0.007058167808526832\n",
      "[L.부동산업 및 임대업 (68 ~ 69)]_309_\t상관관계가 있다\n",
      "p-value = 1.1575609461844225e-10\n",
      "[L.부동산업 및 임대업 (68 ~ 69)]_30_\t상관관계가 있다\n",
      "p-value = 9.034452552792843e-09\n",
      "[L.부동산업 및 임대업 (68 ~ 69)]_310_\t상관관계가 있다\n",
      "p-value = 8.858018731028703e-05\n",
      "[L.부동산업 및 임대업 (68 ~ 69)]_311_\t상관관계가 있다\n",
      "p-value = 3.1263053903778755e-22\n",
      "[L.부동산업 및 임대업 (68 ~ 69)]_312_\t상관관계가 있다\n",
      "p-value = 6.155359749680075e-11\n",
      "[L.부동산업 및 임대업 (68 ~ 69)]_314_\t상관관계가 있다\n",
      "p-value = 1.513302434865539e-08\n",
      "[L.부동산업 및 임대업 (68 ~ 69)]_316_\t상관관계가 있다\n",
      "p-value = 0.00016078541373715374\n",
      "[L.부동산업 및 임대업 (68 ~ 69)]_319_\t상관관계가 있다\n",
      "p-value = 8.742453150994032e-16\n",
      "[L.부동산업 및 임대업 (68 ~ 69)]_320_\t상관관계가 있다\n",
      "p-value = 2.1753177783626526e-08\n",
      "[L.부동산업 및 임대업 (68 ~ 69)]_321_\t상관관계가 있다\n",
      "p-value = 0.001551630533409339\n",
      "[L.부동산업 및 임대업 (68 ~ 69)]_322_\t상관관계가 있다\n",
      "p-value = 1.8038333745780722e-12\n",
      "[L.부동산업 및 임대업 (68 ~ 69)]_323_\t상관관계가 있다\n",
      "p-value = 9.164607367711183e-11\n",
      "[L.부동산업 및 임대업 (68 ~ 69)]_326_\t상관관계가 있다\n",
      "p-value = 9.972380746237763e-17\n",
      "[L.부동산업 및 임대업 (68 ~ 69)]_328_\t상관관계가 있다\n",
      "p-value = 0.7563839735310517\n",
      "[L.부동산업 및 임대업 (68 ~ 69)]_334_\t상관관계가 없다\n"
     ]
    },
    {
     "data": {
      "image/png": "[encoded data removed]",
      "text/plain": [
       "<Figure size 432x288 with 1 Axes>"
      ]
     },
     "metadata": {
      "needs_background": "light"
     },
     "output_type": "display_data"
    },
    {
     "name": "stdout",
     "output_type": "stream",
     "text": [
      "439 done\r",
      "p-value = 0.11440588934704955\n",
      "[L.부동산업 및 임대업 (68 ~ 69)]_335_\t상관관계가 없다\n"
     ]
    },
    {
     "data": {
      "image/png": "[encoded data removed]",
      "text/plain": [
       "<Figure size 432x288 with 1 Axes>"
      ]
     },
     "metadata": {
      "needs_background": "light"
     },
     "output_type": "display_data"
    },
    {
     "name": "stdout",
     "output_type": "stream",
     "text": [
      "p-value = 0.00017574320644566613\n",
      "[L.부동산업 및 임대업 (68 ~ 69)]_336_\t상관관계가 있다\n",
      "p-value = 0.1907841768037262\n",
      "[L.부동산업 및 임대업 (68 ~ 69)]_337_\t상관관계가 없다\n"
     ]
    },
    {
     "data": {
      "image/png": "[encoded data removed]",
      "text/plain": [
       "<Figure size 432x288 with 1 Axes>"
      ]
     },
     "metadata": {
      "needs_background": "light"
     },
     "output_type": "display_data"
    },
    {
     "name": "stdout",
     "output_type": "stream",
     "text": [
      "p-value = 1.742969520510182e-11\n",
      "[L.부동산업 및 임대업 (68 ~ 69)]_339_\t상관관계가 있다\n",
      "p-value = 4.616626875105118e-12\n",
      "[L.부동산업 및 임대업 (68 ~ 69)]_33_\t상관관계가 있다\n",
      "p-value = 0.019346023898081054\n",
      "[L.부동산업 및 임대업 (68 ~ 69)]_341_\t상관관계가 있다\n",
      "p-value = 1.0015588201083055e-08\n",
      "[L.부동산업 및 임대업 (68 ~ 69)]_342_\t상관관계가 있다\n",
      "p-value = 0.021804485200691413\n",
      "[L.부동산업 및 임대업 (68 ~ 69)]_343_\t상관관계가 있다\n",
      "p-value = 2.8222001574112965e-11\n",
      "[L.부동산업 및 임대업 (68 ~ 69)]_345_\t상관관계가 있다\n",
      "p-value = 2.0013444210072625e-07\n",
      "[L.부동산업 및 임대업 (68 ~ 69)]_346_\t상관관계가 있다\n",
      "p-value = 1.3399013383797465e-07\n",
      "[L.부동산업 및 임대업 (68 ~ 69)]_347_\t상관관계가 있다\n",
      "p-value = 0.015611936656837957\n",
      "[L.부동산업 및 임대업 (68 ~ 69)]_348_\t상관관계가 있다\n",
      "p-value = 0.0365220482187387\n",
      "[L.부동산업 및 임대업 (68 ~ 69)]_349_\t상관관계가 있다\n",
      "p-value = 1.7655937756441933e-10\n",
      "[L.부동산업 및 임대업 (68 ~ 69)]_353_\t상관관계가 있다\n",
      "p-value = 0.0019482454380813413\n",
      "[L.부동산업 및 임대업 (68 ~ 69)]_357_\t상관관계가 있다\n",
      "p-value = 0.021833193627295105\n",
      "[L.부동산업 및 임대업 (68 ~ 69)]_358_\t상관관계가 있다\n",
      "p-value = 2.0510318945608696e-23\n",
      "[L.부동산업 및 임대업 (68 ~ 69)]_359_\t상관관계가 있다\n",
      "p-value = 0.00819778534571506\n",
      "[L.부동산업 및 임대업 (68 ~ 69)]_35_\t상관관계가 있다\n",
      "p-value = 9.121605664170831e-14\n",
      "[L.부동산업 및 임대업 (68 ~ 69)]_363_\t상관관계가 있다\n",
      "p-value = 4.5704017264982265e-06\n",
      "[L.부동산업 및 임대업 (68 ~ 69)]_365_\t상관관계가 있다\n",
      "p-value = 1.1674187168440708e-07\n",
      "[L.부동산업 및 임대업 (68 ~ 69)]_366_\t상관관계가 있다\n",
      "p-value = 3.647744344428238e-05\n",
      "[L.부동산업 및 임대업 (68 ~ 69)]_369_\t상관관계가 있다\n",
      "p-value = 0.0007548610549238524\n",
      "[L.부동산업 및 임대업 (68 ~ 69)]_371_\t상관관계가 있다\n",
      "p-value = 1.365480371247452e-08\n",
      "[L.부동산업 및 임대업 (68 ~ 69)]_372_\t상관관계가 있다\n",
      "p-value = 1.1376170170967443e-09\n",
      "[L.부동산업 및 임대업 (68 ~ 69)]_374_\t상관관계가 있다\n",
      "p-value = 2.602333724262208e-07\n",
      "[L.부동산업 및 임대업 (68 ~ 69)]_375_\t상관관계가 있다\n",
      "p-value = 8.567561835947119e-09\n",
      "[L.부동산업 및 임대업 (68 ~ 69)]_376_\t상관관계가 있다\n",
      "p-value = 6.612008582999593e-07\n",
      "[L.부동산업 및 임대업 (68 ~ 69)]_381_\t상관관계가 있다\n",
      "p-value = 1.4350981665528945e-07\n",
      "[L.부동산업 및 임대업 (68 ~ 69)]_382_\t상관관계가 있다\n",
      "p-value = 5.108310718126477e-08\n",
      "[L.부동산업 및 임대업 (68 ~ 69)]_384_\t상관관계가 있다\n",
      "p-value = 1.3573086614078483e-08\n",
      "[L.부동산업 및 임대업 (68 ~ 69)]_387_\t상관관계가 있다\n",
      "p-value = 3.4462812391303965e-10\n",
      "[L.부동산업 및 임대업 (68 ~ 69)]_388_\t상관관계가 있다\n",
      "p-value = 8.9787810444701e-05\n",
      "[L.부동산업 및 임대업 (68 ~ 69)]_389_\t상관관계가 있다\n",
      "p-value = 2.862948472213786e-21\n",
      "[L.부동산업 및 임대업 (68 ~ 69)]_38_\t상관관계가 있다\n",
      "p-value = 1.1038754404818392e-05\n",
      "[L.부동산업 및 임대업 (68 ~ 69)]_391_\t상관관계가 있다\n",
      "p-value = 2.5417866504409256e-07\n",
      "[L.부동산업 및 임대업 (68 ~ 69)]_393_\t상관관계가 있다\n",
      "p-value = 1.1421301588543054e-11\n",
      "[L.부동산업 및 임대업 (68 ~ 69)]_394_\t상관관계가 있다\n",
      "p-value = 1.205148148908433e-13\n",
      "[L.부동산업 및 임대업 (68 ~ 69)]_396_\t상관관계가 있다\n",
      "p-value = 4.6502193156043446e-14\n",
      "[L.부동산업 및 임대업 (68 ~ 69)]_397_\t상관관계가 있다\n",
      "p-value = 0.003862226030315232\n",
      "[L.부동산업 및 임대업 (68 ~ 69)]_398_\t상관관계가 있다\n",
      "p-value = 2.4411288079263915e-09\n",
      "[L.부동산업 및 임대업 (68 ~ 69)]_3_\t상관관계가 있다\n",
      "p-value = 9.410671878147318e-07\n",
      "[L.부동산업 및 임대업 (68 ~ 69)]_401_\t상관관계가 있다\n",
      "p-value = 1.7219455640823133e-18\n",
      "[L.부동산업 및 임대업 (68 ~ 69)]_402_\t상관관계가 있다\n",
      "p-value = 1.6273412541583151e-10\n",
      "[L.부동산업 및 임대업 (68 ~ 69)]_403_\t상관관계가 있다\n",
      "p-value = 6.012040606572216e-14\n",
      "[L.부동산업 및 임대업 (68 ~ 69)]_404_\t상관관계가 있다\n",
      "p-value = 4.631583527920883e-10\n",
      "[L.부동산업 및 임대업 (68 ~ 69)]_405_\t상관관계가 있다\n",
      "p-value = 0.0007405416166976657\n",
      "[L.부동산업 및 임대업 (68 ~ 69)]_406_\t상관관계가 있다\n",
      "p-value = 0.00034088030878711654\n",
      "[L.부동산업 및 임대업 (68 ~ 69)]_408_\t상관관계가 있다\n",
      "p-value = 3.9222743854143115e-11\n",
      "[L.부동산업 및 임대업 (68 ~ 69)]_40_\t상관관계가 있다\n",
      "p-value = 4.210138467041146e-08\n",
      "[L.부동산업 및 임대업 (68 ~ 69)]_410_\t상관관계가 있다\n",
      "p-value = 9.874978650594448e-05\n",
      "[L.부동산업 및 임대업 (68 ~ 69)]_411_\t상관관계가 있다\n",
      "p-value = 9.594871654303567e-07\n",
      "[L.부동산업 및 임대업 (68 ~ 69)]_413_\t상관관계가 있다\n",
      "p-value = 0.0002648776527291783\n",
      "[L.부동산업 및 임대업 (68 ~ 69)]_415_\t상관관계가 있다\n",
      "p-value = 1.5801599047233622e-18\n",
      "[L.부동산업 및 임대업 (68 ~ 69)]_416_\t상관관계가 있다\n",
      "p-value = 8.430688195227782e-12\n",
      "[L.부동산업 및 임대업 (68 ~ 69)]_418_\t상관관계가 있다\n",
      "p-value = 0.00010047533128286489\n",
      "[L.부동산업 및 임대업 (68 ~ 69)]_419_\t상관관계가 있다\n",
      "p-value = 0.02135643425135327\n",
      "[L.부동산업 및 임대업 (68 ~ 69)]_420_\t상관관계가 있다\n",
      "p-value = 0.00031558090929837795\n",
      "[L.부동산업 및 임대업 (68 ~ 69)]_421_\t상관관계가 있다\n",
      "p-value = 7.156983092460926e-05\n",
      "[L.부동산업 및 임대업 (68 ~ 69)]_423_\t상관관계가 있다\n",
      "p-value = 1.2084560642037522e-07\n",
      "[L.부동산업 및 임대업 (68 ~ 69)]_424_\t상관관계가 있다\n",
      "p-value = 0.9131722690510575\n",
      "[L.부동산업 및 임대업 (68 ~ 69)]_425_\t상관관계가 없다\n"
     ]
    },
    {
     "data": {
      "image/png": "[encoded data removed]",
      "text/plain": [
       "<Figure size 432x288 with 1 Axes>"
      ]
     },
     "metadata": {
      "needs_background": "light"
     },
     "output_type": "display_data"
    },
    {
     "name": "stdout",
     "output_type": "stream",
     "text": [
      "500 done\r",
      "p-value = 0.10006154303141179\n",
      "[L.부동산업 및 임대업 (68 ~ 69)]_426_\t상관관계가 없다\n"
     ]
    },
    {
     "data": {
      "image/png": "[encoded data removed]",
      "text/plain": [
       "<Figure size 432x288 with 1 Axes>"
      ]
     },
     "metadata": {
      "needs_background": "light"
     },
     "output_type": "display_data"
    },
    {
     "name": "stdout",
     "output_type": "stream",
     "text": [
      "p-value = 0.5631380061570473\n",
      "[L.부동산업 및 임대업 (68 ~ 69)]_427_\t상관관계가 없다\n"
     ]
    },
    {
     "data": {
      "image/png": "[encoded data removed]",
      "text/plain": [
       "<Figure size 432x288 with 1 Axes>"
      ]
     },
     "metadata": {
      "needs_background": "light"
     },
     "output_type": "display_data"
    },
    {
     "name": "stdout",
     "output_type": "stream",
     "text": [
      "p-value = 0.0006039635388124029\n",
      "[L.부동산업 및 임대업 (68 ~ 69)]_430_\t상관관계가 있다\n",
      "p-value = 3.0494200571545694e-15\n",
      "[L.부동산업 및 임대업 (68 ~ 69)]_431_\t상관관계가 있다\n",
      "p-value = 8.413393716356734e-16\n",
      "[L.부동산업 및 임대업 (68 ~ 69)]_433_\t상관관계가 있다\n",
      "p-value = 8.890148383399432e-08\n",
      "[L.부동산업 및 임대업 (68 ~ 69)]_436_\t상관관계가 있다\n",
      "p-value = 0.0027123481637105805\n",
      "[L.부동산업 및 임대업 (68 ~ 69)]_43_\t상관관계가 있다\n",
      "p-value = 1.5768325737259737e-14\n",
      "[L.부동산업 및 임대업 (68 ~ 69)]_442_\t상관관계가 있다\n",
      "p-value = 1.2609967988212754e-10\n",
      "[L.부동산업 및 임대업 (68 ~ 69)]_444_\t상관관계가 있다\n",
      "p-value = 6.018306235371948e-07\n",
      "[L.부동산업 및 임대업 (68 ~ 69)]_445_\t상관관계가 있다\n",
      "p-value = 2.875319160427291e-10\n",
      "[L.부동산업 및 임대업 (68 ~ 69)]_446_\t상관관계가 있다\n",
      "p-value = 2.942687427935965e-11\n",
      "[L.부동산업 및 임대업 (68 ~ 69)]_447_\t상관관계가 있다\n",
      "p-value = 0.002630964651959876\n",
      "[L.부동산업 및 임대업 (68 ~ 69)]_448_\t상관관계가 있다\n",
      "p-value = 4.180806594249714e-09\n",
      "[L.부동산업 및 임대업 (68 ~ 69)]_44_\t상관관계가 있다\n",
      "p-value = 1.829504612242894e-07\n",
      "[L.부동산업 및 임대업 (68 ~ 69)]_452_\t상관관계가 있다\n",
      "p-value = 1.6751832379922248e-05\n",
      "[L.부동산업 및 임대업 (68 ~ 69)]_457_\t상관관계가 있다\n",
      "p-value = 4.055855382117234e-09\n",
      "[L.부동산업 및 임대업 (68 ~ 69)]_45_\t상관관계가 있다\n",
      "p-value = 8.13210461079129e-06\n",
      "[L.부동산업 및 임대업 (68 ~ 69)]_460_\t상관관계가 있다\n",
      "p-value = 0.3031263316553842\n",
      "[L.부동산업 및 임대업 (68 ~ 69)]_462_\t상관관계가 없다\n"
     ]
    },
    {
     "data": {
      "image/png": "[encoded data removed]",
      "text/plain": [
       "<Figure size 432x288 with 1 Axes>"
      ]
     },
     "metadata": {
      "needs_background": "light"
     },
     "output_type": "display_data"
    },
    {
     "name": "stdout",
     "output_type": "stream",
     "text": [
      "p-value = 8.85139245658482e-05\n",
      "[L.부동산업 및 임대업 (68 ~ 69)]_464_\t상관관계가 있다\n",
      "p-value = 6.735148486467522e-15\n",
      "[L.부동산업 및 임대업 (68 ~ 69)]_465_\t상관관계가 있다\n",
      "p-value = 3.099047688761521e-11\n",
      "[L.부동산업 및 임대업 (68 ~ 69)]_466_\t상관관계가 있다\n",
      "p-value = 0.0002052747871746082\n",
      "[L.부동산업 및 임대업 (68 ~ 69)]_467_\t상관관계가 있다\n",
      "p-value = 0.0002028454041911029\n",
      "[L.부동산업 및 임대업 (68 ~ 69)]_46_\t상관관계가 있다\n",
      "p-value = 0.024165112138536424\n",
      "[L.부동산업 및 임대업 (68 ~ 69)]_472_\t상관관계가 있다\n",
      "p-value = 1.813133478936642e-09\n",
      "[L.부동산업 및 임대업 (68 ~ 69)]_477_\t상관관계가 있다\n",
      "p-value = 6.186072569474538e-08\n",
      "[L.부동산업 및 임대업 (68 ~ 69)]_479_\t상관관계가 있다\n",
      "p-value = 3.206834729300418e-11\n",
      "[L.부동산업 및 임대업 (68 ~ 69)]_481_\t상관관계가 있다\n",
      "p-value = 9.546929159760772e-11\n",
      "[L.부동산업 및 임대업 (68 ~ 69)]_482_\t상관관계가 있다\n",
      "p-value = 3.188821519456685e-19\n",
      "[L.부동산업 및 임대업 (68 ~ 69)]_484_\t상관관계가 있다\n",
      "p-value = 0.0002796091327136855\n",
      "[L.부동산업 및 임대업 (68 ~ 69)]_486_\t상관관계가 있다\n",
      "p-value = 1.5426413555060514e-06\n",
      "[L.부동산업 및 임대업 (68 ~ 69)]_487_\t상관관계가 있다\n",
      "p-value = 0.013536756871382092\n",
      "[L.부동산업 및 임대업 (68 ~ 69)]_489_\t상관관계가 있다\n",
      "p-value = 1.0894068407127702e-10\n",
      "[L.부동산업 및 임대업 (68 ~ 69)]_48_\t상관관계가 있다\n",
      "p-value = 5.8162217793689885e-05\n",
      "[L.부동산업 및 임대업 (68 ~ 69)]_491_\t상관관계가 있다\n",
      "p-value = 1.4184839842952349e-08\n",
      "[L.부동산업 및 임대업 (68 ~ 69)]_492_\t상관관계가 있다\n",
      "p-value = 6.440889064828234e-10\n",
      "[L.부동산업 및 임대업 (68 ~ 69)]_493_\t상관관계가 있다\n",
      "p-value = 4.75355373760062e-10\n",
      "[L.부동산업 및 임대업 (68 ~ 69)]_494_\t상관관계가 있다\n",
      "p-value = 0.0004106999831034617\n",
      "[L.부동산업 및 임대업 (68 ~ 69)]_495_\t상관관계가 있다\n",
      "p-value = 3.2688282844383016e-05\n",
      "[L.부동산업 및 임대업 (68 ~ 69)]_497_\t상관관계가 있다\n",
      "p-value = 0.004204012553787157\n",
      "[L.부동산업 및 임대업 (68 ~ 69)]_49_\t상관관계가 있다\n",
      "p-value = 6.491773734772263e-08\n",
      "[L.부동산업 및 임대업 (68 ~ 69)]_503_\t상관관계가 있다\n",
      "p-value = 6.907618212080225e-10\n",
      "[L.부동산업 및 임대업 (68 ~ 69)]_504_\t상관관계가 있다\n",
      "p-value = 1.144109266012792e-12\n",
      "[L.부동산업 및 임대업 (68 ~ 69)]_505_\t상관관계가 있다\n",
      "p-value = 1.5652265797875123e-07\n",
      "[L.부동산업 및 임대업 (68 ~ 69)]_512_\t상관관계가 있다\n",
      "p-value = 7.949324953561826e-06\n",
      "[L.부동산업 및 임대업 (68 ~ 69)]_514_\t상관관계가 있다\n",
      "p-value = 3.6040584909613675e-18\n",
      "[L.부동산업 및 임대업 (68 ~ 69)]_515_\t상관관계가 있다\n",
      "p-value = 1.2768348158414677e-13\n",
      "[L.부동산업 및 임대업 (68 ~ 69)]_521_\t상관관계가 있다\n",
      "p-value = 7.359930448975037e-12\n",
      "[L.부동산업 및 임대업 (68 ~ 69)]_522_\t상관관계가 있다\n",
      "p-value = 3.362313329477782e-14\n",
      "[L.부동산업 및 임대업 (68 ~ 69)]_523_\t상관관계가 있다\n",
      "p-value = 1.7460996331627901e-06\n",
      "[L.부동산업 및 임대업 (68 ~ 69)]_524_\t상관관계가 있다\n",
      "p-value = 3.0360683611787967e-06\n",
      "[L.부동산업 및 임대업 (68 ~ 69)]_525_\t상관관계가 있다\n",
      "p-value = 5.006513629941643e-15\n",
      "[L.부동산업 및 임대업 (68 ~ 69)]_526_\t상관관계가 있다\n",
      "p-value = 2.0222534943716523e-08\n",
      "[L.부동산업 및 임대업 (68 ~ 69)]_527_\t상관관계가 있다\n",
      "p-value = 1.5882597768330516e-05\n",
      "[L.부동산업 및 임대업 (68 ~ 69)]_528_\t상관관계가 있다\n",
      "p-value = 0.001450574267445973\n",
      "[L.부동산업 및 임대업 (68 ~ 69)]_530_\t상관관계가 있다\n",
      "p-value = 1.1431509316884982e-05\n",
      "[L.부동산업 및 임대업 (68 ~ 69)]_532_\t상관관계가 있다\n",
      "p-value = 0.0004048748965140178\n",
      "[L.부동산업 및 임대업 (68 ~ 69)]_535_\t상관관계가 있다\n",
      "p-value = 0.0010866218118121395\n",
      "[L.부동산업 및 임대업 (68 ~ 69)]_538_\t상관관계가 있다\n",
      "p-value = 4.2899609770371587e-08\n",
      "[L.부동산업 및 임대업 (68 ~ 69)]_53_\t상관관계가 있다\n",
      "p-value = 1.3079140258081318e-08\n",
      "[L.부동산업 및 임대업 (68 ~ 69)]_541_\t상관관계가 있다\n",
      "p-value = 0.00012126379238270556\n",
      "[L.부동산업 및 임대업 (68 ~ 69)]_542_\t상관관계가 있다\n",
      "p-value = 6.221953542121396e-09\n",
      "[L.부동산업 및 임대업 (68 ~ 69)]_543_\t상관관계가 있다\n",
      "p-value = 0.005002378729141498\n",
      "[L.부동산업 및 임대업 (68 ~ 69)]_546_\t상관관계가 있다\n",
      "p-value = 2.925522403187074e-10\n",
      "[L.부동산업 및 임대업 (68 ~ 69)]_54_\t상관관계가 있다\n",
      "p-value = 2.2315103280785e-10\n",
      "[L.부동산업 및 임대업 (68 ~ 69)]_551_\t상관관계가 있다\n",
      "p-value = 9.996391915728595e-05\n",
      "[L.부동산업 및 임대업 (68 ~ 69)]_556_\t상관관계가 있다\n",
      "p-value = 9.792484221460094e-05\n",
      "[L.부동산업 및 임대업 (68 ~ 69)]_557_\t상관관계가 있다\n",
      "p-value = 7.279171526551727e-07\n",
      "[L.부동산업 및 임대업 (68 ~ 69)]_55_\t상관관계가 있다\n",
      "p-value = 4.639398452476812e-20\n",
      "[L.부동산업 및 임대업 (68 ~ 69)]_561_\t상관관계가 있다\n",
      "p-value = 2.9763839733962077e-16\n",
      "[L.부동산업 및 임대업 (68 ~ 69)]_562_\t상관관계가 있다\n",
      "p-value = 8.646339610732558e-09\n",
      "[L.부동산업 및 임대업 (68 ~ 69)]_565_\t상관관계가 있다\n",
      "p-value = 6.1304367312528796e-18\n",
      "[L.부동산업 및 임대업 (68 ~ 69)]_568_\t상관관계가 있다\n",
      "p-value = 1.3613264260258695e-10\n",
      "[L.부동산업 및 임대업 (68 ~ 69)]_570_\t상관관계가 있다\n",
      "p-value = 1.588400935662324e-10\n",
      "[L.부동산업 및 임대업 (68 ~ 69)]_573_\t상관관계가 있다\n",
      "p-value = 3.8336037204174706e-07\n",
      "[L.부동산업 및 임대업 (68 ~ 69)]_578_\t상관관계가 있다\n",
      "p-value = 6.733279482766435e-07\n",
      "[L.부동산업 및 임대업 (68 ~ 69)]_57_\t상관관계가 있다\n",
      "p-value = 1.209399788329504e-07\n",
      "[L.부동산업 및 임대업 (68 ~ 69)]_580_\t상관관계가 있다\n",
      "p-value = 5.006808228558683e-11\n",
      "[L.부동산업 및 임대업 (68 ~ 69)]_581_\t상관관계가 있다\n",
      "p-value = 1.106393843060741e-07\n",
      "[L.부동산업 및 임대업 (68 ~ 69)]_583_\t상관관계가 있다\n",
      "p-value = 1.1101148342278372e-11\n",
      "[L.부동산업 및 임대업 (68 ~ 69)]_584_\t상관관계가 있다\n",
      "p-value = 6.949353369726029e-13\n",
      "[L.부동산업 및 임대업 (68 ~ 69)]_586_\t상관관계가 있다\n",
      "p-value = 9.8986314048795e-05\n",
      "[L.부동산업 및 임대업 (68 ~ 69)]_587_\t상관관계가 있다\n",
      "p-value = 6.402936287583988e-06\n",
      "[L.부동산업 및 임대업 (68 ~ 69)]_588_\t상관관계가 있다\n",
      "p-value = 0.0012602363323273077\n",
      "[L.부동산업 및 임대업 (68 ~ 69)]_589_\t상관관계가 있다\n",
      "p-value = 1.845252142535144e-05\n",
      "[L.부동산업 및 임대업 (68 ~ 69)]_58_\t상관관계가 있다\n",
      "p-value = 1.78513691079252e-09\n",
      "[L.부동산업 및 임대업 (68 ~ 69)]_590_\t상관관계가 있다\n",
      "p-value = 2.5558562375928044e-12\n",
      "[L.부동산업 및 임대업 (68 ~ 69)]_593_\t상관관계가 있다\n",
      "p-value = 1.465238836594316e-17\n",
      "[L.부동산업 및 임대업 (68 ~ 69)]_59_\t상관관계가 있다\n",
      "p-value = 0.0007052036478079519\n",
      "[L.부동산업 및 임대업 (68 ~ 69)]_5_\t상관관계가 있다\n",
      "p-value = 0.11015362867058277\n",
      "[L.부동산업 및 임대업 (68 ~ 69)]_603_\t상관관계가 없다\n"
     ]
    },
    {
     "data": {
      "image/png": "[encoded data removed]",
      "text/plain": [
       "<Figure size 432x288 with 1 Axes>"
      ]
     },
     "metadata": {
      "needs_background": "light"
     },
     "output_type": "display_data"
    },
    {
     "name": "stdout",
     "output_type": "stream",
     "text": [
      "p-value = 1.1757267526491898e-16\n",
      "[L.부동산업 및 임대업 (68 ~ 69)]_606_\t상관관계가 있다\n",
      "p-value = 2.111419946293877e-08\n",
      "[L.부동산업 및 임대업 (68 ~ 69)]_607_\t상관관계가 있다\n",
      "p-value = 3.34746610744818e-11\n",
      "[L.부동산업 및 임대업 (68 ~ 69)]_608_\t상관관계가 있다\n",
      "p-value = 1.647693620435467e-17\n",
      "[L.부동산업 및 임대업 (68 ~ 69)]_60_\t상관관계가 있다\n",
      "p-value = 1.7169464702346728e-14\n",
      "[L.부동산업 및 임대업 (68 ~ 69)]_610_\t상관관계가 있다\n",
      "p-value = 1.3109150087416008e-07\n",
      "[L.부동산업 및 임대업 (68 ~ 69)]_611_\t상관관계가 있다\n",
      "p-value = 5.4782384555629636e-08\n",
      "[L.부동산업 및 임대업 (68 ~ 69)]_613_\t상관관계가 있다\n",
      "p-value = 8.101217177649038e-07\n",
      "[L.부동산업 및 임대업 (68 ~ 69)]_615_\t상관관계가 있다\n",
      "p-value = 2.991041951062329e-24\n",
      "[L.부동산업 및 임대업 (68 ~ 69)]_616_\t상관관계가 있다\n",
      "p-value = 0.003058396184825632\n",
      "[L.부동산업 및 임대업 (68 ~ 69)]_617_\t상관관계가 있다\n",
      "p-value = 6.372256432879622e-15\n",
      "[L.부동산업 및 임대업 (68 ~ 69)]_618_\t상관관계가 있다\n",
      "p-value = 6.450923712175386e-11\n",
      "[L.부동산업 및 임대업 (68 ~ 69)]_619_\t상관관계가 있다\n",
      "p-value = 0.00022644348641493554\n",
      "[L.부동산업 및 임대업 (68 ~ 69)]_620_\t상관관계가 있다\n",
      "p-value = 1.5925477784397316e-10\n",
      "[L.부동산업 및 임대업 (68 ~ 69)]_621_\t상관관계가 있다\n",
      "p-value = 2.3154820194418937e-12\n",
      "[L.부동산업 및 임대업 (68 ~ 69)]_622_\t상관관계가 있다\n",
      "p-value = 8.773535990537219e-06\n",
      "[L.부동산업 및 임대업 (68 ~ 69)]_623_\t상관관계가 있다\n",
      "p-value = 0.23798219432354525\n",
      "[L.부동산업 및 임대업 (68 ~ 69)]_62_\t상관관계가 없다\n"
     ]
    },
    {
     "data": {
      "image/png": "[encoded data removed]",
      "text/plain": [
       "<Figure size 432x288 with 1 Axes>"
      ]
     },
     "metadata": {
      "needs_background": "light"
     },
     "output_type": "display_data"
    },
    {
     "name": "stdout",
     "output_type": "stream",
     "text": [
      "p-value = 2.713337704345098e-09\n",
      "[L.부동산업 및 임대업 (68 ~ 69)]_640_\t상관관계가 있다\n",
      "p-value = 0.8039208553529887\n",
      "[L.부동산업 및 임대업 (68 ~ 69)]_643_\t상관관계가 없다\n"
     ]
    },
    {
     "data": {
      "image/png": "[encoded data removed]",
      "text/plain": [
       "<Figure size 432x288 with 1 Axes>"
      ]
     },
     "metadata": {
      "needs_background": "light"
     },
     "output_type": "display_data"
    },
    {
     "name": "stdout",
     "output_type": "stream",
     "text": [
      "p-value = 2.76503065747006e-05\n",
      "[L.부동산업 및 임대업 (68 ~ 69)]_644_\t상관관계가 있다\n",
      "p-value = 2.890926997869917e-14\n",
      "[L.부동산업 및 임대업 (68 ~ 69)]_650_\t상관관계가 있다\n",
      "p-value = 2.4825623061147493e-06\n",
      "[L.부동산업 및 임대업 (68 ~ 69)]_651_\t상관관계가 있다\n",
      "p-value = 8.001757558790799e-05\n",
      "[L.부동산업 및 임대업 (68 ~ 69)]_652_\t상관관계가 있다\n",
      "p-value = 8.142928369468277e-20\n",
      "[L.부동산업 및 임대업 (68 ~ 69)]_654_\t상관관계가 있다\n",
      "p-value = 4.3815910652060766e-15\n",
      "[L.부동산업 및 임대업 (68 ~ 69)]_659_\t상관관계가 있다\n",
      "p-value = 9.842223325463921e-06\n",
      "[L.부동산업 및 임대업 (68 ~ 69)]_663_\t상관관계가 있다\n",
      "p-value = 3.1322161763896892e-12\n",
      "[L.부동산업 및 임대업 (68 ~ 69)]_667_\t상관관계가 있다\n",
      "p-value = 1.065055708934446e-12\n",
      "[L.부동산업 및 임대업 (68 ~ 69)]_669_\t상관관계가 있다\n",
      "p-value = 4.8815286672989816e-05\n",
      "[L.부동산업 및 임대업 (68 ~ 69)]_675_\t상관관계가 있다\n",
      "p-value = 1.1487868609573756e-07\n",
      "[L.부동산업 및 임대업 (68 ~ 69)]_676_\t상관관계가 있다\n",
      "p-value = 9.65443332220184e-11\n",
      "[L.부동산업 및 임대업 (68 ~ 69)]_691_\t상관관계가 있다\n",
      "p-value = 1.8174363065537874e-07\n",
      "[L.부동산업 및 임대업 (68 ~ 69)]_692_\t상관관계가 있다\n",
      "p-value = 1.9003618081537067e-14\n",
      "[L.부동산업 및 임대업 (68 ~ 69)]_693_\t상관관계가 있다\n",
      "p-value = 2.568529341947036e-16\n",
      "[L.부동산업 및 임대업 (68 ~ 69)]_694_\t상관관계가 있다\n",
      "p-value = 0.004462877683699722\n",
      "[L.부동산업 및 임대업 (68 ~ 69)]_695_\t상관관계가 있다\n",
      "p-value = 6.428648017656292e-08\n",
      "[L.부동산업 및 임대업 (68 ~ 69)]_696_\t상관관계가 있다\n",
      "p-value = 2.212547605390854e-05\n",
      "[L.부동산업 및 임대업 (68 ~ 69)]_698_\t상관관계가 있다\n",
      "p-value = 0.0009196992854327938\n",
      "[L.부동산업 및 임대업 (68 ~ 69)]_701_\t상관관계가 있다\n",
      "p-value = 7.592860848374252e-15\n",
      "[L.부동산업 및 임대업 (68 ~ 69)]_703_\t상관관계가 있다\n",
      "p-value = 3.299711660661867e-12\n",
      "[L.부동산업 및 임대업 (68 ~ 69)]_705_\t상관관계가 있다\n",
      "p-value = 1.5756770892419047e-13\n",
      "[L.부동산업 및 임대업 (68 ~ 69)]_707_\t상관관계가 있다\n",
      "p-value = 1.3299654049528765e-08\n",
      "[L.부동산업 및 임대업 (68 ~ 69)]_709_\t상관관계가 있다\n",
      "p-value = 3.547419677055223e-05\n",
      "[L.부동산업 및 임대업 (68 ~ 69)]_70_\t상관관계가 있다\n",
      "p-value = 8.812501626418297e-06\n",
      "[L.부동산업 및 임대업 (68 ~ 69)]_711_\t상관관계가 있다\n",
      "p-value = 0.0012063600760133\n",
      "[L.부동산업 및 임대업 (68 ~ 69)]_712_\t상관관계가 있다\n",
      "p-value = 4.5783578834772947e-07\n",
      "[L.부동산업 및 임대업 (68 ~ 69)]_715_\t상관관계가 있다\n",
      "p-value = 6.080170420801255e-10\n",
      "[L.부동산업 및 임대업 (68 ~ 69)]_718_\t상관관계가 있다\n",
      "p-value = 5.525860747887163e-07\n",
      "[L.부동산업 및 임대업 (68 ~ 69)]_71_\t상관관계가 있다\n",
      "p-value = 2.047951187705665e-11\n",
      "[L.부동산업 및 임대업 (68 ~ 69)]_721_\t상관관계가 있다\n",
      "p-value = 8.497552338716769e-07\n",
      "[L.부동산업 및 임대업 (68 ~ 69)]_724_\t상관관계가 있다\n",
      "p-value = 7.087797958791978e-10\n",
      "[L.부동산업 및 임대업 (68 ~ 69)]_727_\t상관관계가 있다\n",
      "p-value = 0.001724647989906978\n",
      "[L.부동산업 및 임대업 (68 ~ 69)]_72_\t상관관계가 있다\n",
      "p-value = 1.1668573622486569e-09\n",
      "[L.부동산업 및 임대업 (68 ~ 69)]_730_\t상관관계가 있다\n",
      "p-value = 1.2162865522044829e-06\n",
      "[L.부동산업 및 임대업 (68 ~ 69)]_733_\t상관관계가 있다\n",
      "p-value = 0.04133329124357595\n",
      "[L.부동산업 및 임대업 (68 ~ 69)]_735_\t상관관계가 있다\n",
      "p-value = 3.57825755388682e-08\n",
      "[L.부동산업 및 임대업 (68 ~ 69)]_73_\t상관관계가 있다\n",
      "p-value = 9.428206270920611e-08\n",
      "[L.부동산업 및 임대업 (68 ~ 69)]_743_\t상관관계가 있다\n",
      "p-value = 0.9434460869596167\n",
      "[L.부동산업 및 임대업 (68 ~ 69)]_74_\t상관관계가 없다\n"
     ]
    },
    {
     "data": {
      "image/png": "[encoded data removed]",
      "text/plain": [
       "<Figure size 432x288 with 1 Axes>"
      ]
     },
     "metadata": {
      "needs_background": "light"
     },
     "output_type": "display_data"
    },
    {
     "name": "stdout",
     "output_type": "stream",
     "text": [
      "p-value = 4.999332481178955e-06\n",
      "[L.부동산업 및 임대업 (68 ~ 69)]_750_\t상관관계가 있다\n",
      "p-value = 4.396682862718282e-15\n",
      "[L.부동산업 및 임대업 (68 ~ 69)]_757_\t상관관계가 있다\n",
      "p-value = 2.3559866430174246e-05\n",
      "[L.부동산업 및 임대업 (68 ~ 69)]_761_\t상관관계가 있다\n",
      "p-value = 5.311233974622805e-09\n",
      "[L.부동산업 및 임대업 (68 ~ 69)]_762_\t상관관계가 있다\n",
      "p-value = 5.729433756613268e-11\n",
      "[L.부동산업 및 임대업 (68 ~ 69)]_768_\t상관관계가 있다\n",
      "p-value = 6.30961504824076e-11\n",
      "[L.부동산업 및 임대업 (68 ~ 69)]_769_\t상관관계가 있다\n",
      "p-value = 8.062417683897086e-10\n",
      "[L.부동산업 및 임대업 (68 ~ 69)]_76_\t상관관계가 있다\n",
      "p-value = 0.00010484939390240418\n",
      "[L.부동산업 및 임대업 (68 ~ 69)]_771_\t상관관계가 있다\n",
      "p-value = 3.471464073438771e-22\n",
      "[L.부동산업 및 임대업 (68 ~ 69)]_772_\t상관관계가 있다\n",
      "p-value = 7.877957438274297e-07\n",
      "[L.부동산업 및 임대업 (68 ~ 69)]_773_\t상관관계가 있다\n",
      "p-value = 4.473809305189508e-06\n",
      "[L.부동산업 및 임대업 (68 ~ 69)]_780_\t상관관계가 있다\n",
      "p-value = 5.18090933510225e-12\n",
      "[L.부동산업 및 임대업 (68 ~ 69)]_781_\t상관관계가 있다\n",
      "p-value = 0.003805609653369481\n",
      "[L.부동산업 및 임대업 (68 ~ 69)]_782_\t상관관계가 있다\n",
      "p-value = 9.961903663652742e-19\n",
      "[L.부동산업 및 임대업 (68 ~ 69)]_783_\t상관관계가 있다\n",
      "p-value = 4.795440042445431e-10\n",
      "[L.부동산업 및 임대업 (68 ~ 69)]_785_\t상관관계가 있다\n",
      "p-value = 6.214722421664006e-05\n",
      "[L.부동산업 및 임대업 (68 ~ 69)]_787_\t상관관계가 있다\n",
      "p-value = 3.3131933559471095e-08\n",
      "[L.부동산업 및 임대업 (68 ~ 69)]_789_\t상관관계가 있다\n",
      "p-value = 0.00023308760808058048\n",
      "[L.부동산업 및 임대업 (68 ~ 69)]_78_\t상관관계가 있다\n",
      "p-value = 9.294932950279284e-07\n",
      "[L.부동산업 및 임대업 (68 ~ 69)]_793_\t상관관계가 있다\n",
      "p-value = 6.317247244569202e-20\n",
      "[L.부동산업 및 임대업 (68 ~ 69)]_794_\t상관관계가 있다\n",
      "p-value = 1.6106686537718943e-09\n",
      "[L.부동산업 및 임대업 (68 ~ 69)]_795_\t상관관계가 있다\n",
      "p-value = 9.693413683639063e-11\n",
      "[L.부동산업 및 임대업 (68 ~ 69)]_796_\t상관관계가 있다\n",
      "p-value = 5.359046892484635e-14\n",
      "[L.부동산업 및 임대업 (68 ~ 69)]_797_\t상관관계가 있다\n",
      "p-value = 3.9992773376893944e-13\n",
      "[L.부동산업 및 임대업 (68 ~ 69)]_798_\t상관관계가 있다\n",
      "p-value = 2.70319172053305e-06\n",
      "[L.부동산업 및 임대업 (68 ~ 69)]_79_\t상관관계가 있다\n",
      "p-value = 4.187960158662009e-07\n",
      "[L.부동산업 및 임대업 (68 ~ 69)]_800_\t상관관계가 있다\n",
      "p-value = 6.330534324262846e-14\n",
      "[L.부동산업 및 임대업 (68 ~ 69)]_804_\t상관관계가 있다\n",
      "p-value = 3.8101755956691375e-09\n",
      "[L.부동산업 및 임대업 (68 ~ 69)]_807_\t상관관계가 있다\n",
      "p-value = 3.0082418992189313e-05\n",
      "[L.부동산업 및 임대업 (68 ~ 69)]_812_\t상관관계가 있다\n",
      "p-value = 0.06126620112202651\n",
      "[L.부동산업 및 임대업 (68 ~ 69)]_817_\t상관관계가 없다\n"
     ]
    },
    {
     "data": {
      "image/png": "[encoded data removed]",
      "text/plain": [
       "<Figure size 432x288 with 1 Axes>"
      ]
     },
     "metadata": {
      "needs_background": "light"
     },
     "output_type": "display_data"
    },
    {
     "name": "stdout",
     "output_type": "stream",
     "text": [
      "p-value = 1.0758911924213872e-12\n",
      "[L.부동산업 및 임대업 (68 ~ 69)]_819_\t상관관계가 있다\n",
      "p-value = 7.618691788261421e-06\n",
      "[L.부동산업 및 임대업 (68 ~ 69)]_827_\t상관관계가 있다\n",
      "p-value = 2.6527391590166454e-15\n",
      "[L.부동산업 및 임대업 (68 ~ 69)]_830_\t상관관계가 있다\n",
      "p-value = 4.199099224331666e-18\n",
      "[L.부동산업 및 임대업 (68 ~ 69)]_831_\t상관관계가 있다\n",
      "p-value = 8.188917724152516e-10\n",
      "[L.부동산업 및 임대업 (68 ~ 69)]_835_\t상관관계가 있다\n",
      "p-value = 6.065676560968892e-06\n",
      "[L.부동산업 및 임대업 (68 ~ 69)]_836_\t상관관계가 있다\n",
      "p-value = 1.1928112607400535e-05\n",
      "[L.부동산업 및 임대업 (68 ~ 69)]_837_\t상관관계가 있다\n",
      "p-value = 6.821592485210366e-06\n",
      "[L.부동산업 및 임대업 (68 ~ 69)]_838_\t상관관계가 있다\n",
      "p-value = 0.00862979660856118\n",
      "[L.부동산업 및 임대업 (68 ~ 69)]_839_\t상관관계가 있다\n",
      "p-value = 0.17508016357064898\n",
      "[L.부동산업 및 임대업 (68 ~ 69)]_83_\t상관관계가 없다\n"
     ]
    },
    {
     "data": {
      "image/png": "[encoded data removed]",
      "text/plain": [
       "<Figure size 432x288 with 1 Axes>"
      ]
     },
     "metadata": {
      "needs_background": "light"
     },
     "output_type": "display_data"
    },
    {
     "name": "stdout",
     "output_type": "stream",
     "text": [
      "p-value = 3.004941752858908e-14\n",
      "[L.부동산업 및 임대업 (68 ~ 69)]_840_\t상관관계가 있다\n",
      "p-value = 4.014719099199542e-09\n",
      "[L.부동산업 및 임대업 (68 ~ 69)]_841_\t상관관계가 있다\n",
      "p-value = 1.1612238600872513e-10\n",
      "[L.부동산업 및 임대업 (68 ~ 69)]_842_\t상관관계가 있다\n",
      "p-value = 1.2426708687818387e-06\n",
      "[L.부동산업 및 임대업 (68 ~ 69)]_844_\t상관관계가 있다\n",
      "p-value = 3.056614981157369e-10\n",
      "[L.부동산업 및 임대업 (68 ~ 69)]_845_\t상관관계가 있다\n",
      "p-value = 4.4629242840547944e-08\n",
      "[L.부동산업 및 임대업 (68 ~ 69)]_846_\t상관관계가 있다\n",
      "p-value = 1.1250167843124222e-07\n",
      "[L.부동산업 및 임대업 (68 ~ 69)]_847_\t상관관계가 있다\n",
      "p-value = 0.8628962655899513\n",
      "[L.부동산업 및 임대업 (68 ~ 69)]_848_\t상관관계가 없다\n"
     ]
    },
    {
     "data": {
      "image/png": "[encoded data removed]",
      "text/plain": [
       "<Figure size 432x288 with 1 Axes>"
      ]
     },
     "metadata": {
      "needs_background": "light"
     },
     "output_type": "display_data"
    },
    {
     "name": "stdout",
     "output_type": "stream",
     "text": [
      "p-value = 6.752720731089905e-08\n",
      "[L.부동산업 및 임대업 (68 ~ 69)]_849_\t상관관계가 있다\n",
      "p-value = 0.001855600199882599\n",
      "[L.부동산업 및 임대업 (68 ~ 69)]_850_\t상관관계가 있다\n",
      "p-value = 0.26044199063642215\n",
      "[L.부동산업 및 임대업 (68 ~ 69)]_853_\t상관관계가 없다\n"
     ]
    },
    {
     "data": {
      "image/png": "[encoded data removed]",
      "text/plain": [
       "<Figure size 432x288 with 1 Axes>"
      ]
     },
     "metadata": {
      "needs_background": "light"
     },
     "output_type": "display_data"
    },
    {
     "name": "stdout",
     "output_type": "stream",
     "text": [
      "p-value = 1.54744982870617e-08\n",
      "[L.부동산업 및 임대업 (68 ~ 69)]_855_\t상관관계가 있다\n",
      "p-value = 2.7770556719807695e-05\n",
      "[L.부동산업 및 임대업 (68 ~ 69)]_856_\t상관관계가 있다\n",
      "p-value = 5.087555361841381e-11\n",
      "[L.부동산업 및 임대업 (68 ~ 69)]_858_\t상관관계가 있다\n",
      "p-value = 0.009282417134397902\n",
      "[L.부동산업 및 임대업 (68 ~ 69)]_859_\t상관관계가 있다\n",
      "p-value = 7.580215456163378e-14\n",
      "[L.부동산업 및 임대업 (68 ~ 69)]_85_\t상관관계가 있다\n",
      "p-value = 1.4283394508528028e-09\n",
      "[L.부동산업 및 임대업 (68 ~ 69)]_862_\t상관관계가 있다\n",
      "p-value = 3.373391012719935e-08\n",
      "[L.부동산업 및 임대업 (68 ~ 69)]_864_\t상관관계가 있다\n",
      "p-value = 8.545925673516082e-11\n",
      "[L.부동산업 및 임대업 (68 ~ 69)]_868_\t상관관계가 있다\n",
      "p-value = 1.0343147109449668e-05\n",
      "[L.부동산업 및 임대업 (68 ~ 69)]_86_\t상관관계가 있다\n",
      "p-value = 0.00027747819177081977\n",
      "[L.부동산업 및 임대업 (68 ~ 69)]_871_\t상관관계가 있다\n",
      "p-value = 2.947374587081574e-11\n",
      "[L.부동산업 및 임대업 (68 ~ 69)]_872_\t상관관계가 있다\n",
      "p-value = 4.153234658404871e-05\n",
      "[L.부동산업 및 임대업 (68 ~ 69)]_875_\t상관관계가 있다\n",
      "p-value = 3.533891785961885e-14\n",
      "[L.부동산업 및 임대업 (68 ~ 69)]_876_\t상관관계가 있다\n",
      "p-value = 2.3483018874742775e-19\n",
      "[L.부동산업 및 임대업 (68 ~ 69)]_878_\t상관관계가 있다\n",
      "p-value = 1.773620352042481e-06\n",
      "[L.부동산업 및 임대업 (68 ~ 69)]_87_\t상관관계가 있다\n",
      "p-value = 2.1910182784918253e-06\n",
      "[L.부동산업 및 임대업 (68 ~ 69)]_882_\t상관관계가 있다\n",
      "p-value = 3.497762985926821e-05\n",
      "[L.부동산업 및 임대업 (68 ~ 69)]_884_\t상관관계가 있다\n",
      "p-value = 2.2459166107090817e-15\n",
      "[L.부동산업 및 임대업 (68 ~ 69)]_887_\t상관관계가 있다\n",
      "p-value = 0.011290012377363285\n",
      "[L.부동산업 및 임대업 (68 ~ 69)]_88_\t상관관계가 있다\n",
      "p-value = 1.264498385171822e-10\n",
      "[L.부동산업 및 임대업 (68 ~ 69)]_890_\t상관관계가 있다\n",
      "p-value = 0.0003588592748526492\n",
      "[L.부동산업 및 임대업 (68 ~ 69)]_891_\t상관관계가 있다\n",
      "p-value = 1.4449225091902918e-05\n",
      "[L.부동산업 및 임대업 (68 ~ 69)]_892_\t상관관계가 있다\n",
      "p-value = 5.299115149800135e-07\n",
      "[L.부동산업 및 임대업 (68 ~ 69)]_894_\t상관관계가 있다\n",
      "p-value = 1.561919402673039e-06\n",
      "[L.부동산업 및 임대업 (68 ~ 69)]_898_\t상관관계가 있다\n",
      "p-value = 1.0269678954553634e-09\n",
      "[L.부동산업 및 임대업 (68 ~ 69)]_89_\t상관관계가 있다\n",
      "p-value = 3.630920621083781e-10\n",
      "[L.부동산업 및 임대업 (68 ~ 69)]_901_\t상관관계가 있다\n",
      "p-value = 0.00024308890327228794\n",
      "[L.부동산업 및 임대업 (68 ~ 69)]_903_\t상관관계가 있다\n",
      "p-value = 1.0079685782380225e-20\n",
      "[L.부동산업 및 임대업 (68 ~ 69)]_905_\t상관관계가 있다\n",
      "p-value = 3.626344113519925e-13\n",
      "[L.부동산업 및 임대업 (68 ~ 69)]_906_\t상관관계가 있다\n",
      "p-value = 9.85263869239724e-09\n",
      "[L.부동산업 및 임대업 (68 ~ 69)]_907_\t상관관계가 있다\n",
      "p-value = 0.06771688749571628\n",
      "[L.부동산업 및 임대업 (68 ~ 69)]_908_\t상관관계가 없다\n"
     ]
    },
    {
     "data": {
      "image/png": "[encoded data removed]",
      "text/plain": [
       "<Figure size 432x288 with 1 Axes>"
      ]
     },
     "metadata": {
      "needs_background": "light"
     },
     "output_type": "display_data"
    },
    {
     "name": "stdout",
     "output_type": "stream",
     "text": [
      "p-value = 3.586593561257238e-05\n",
      "[L.부동산업 및 임대업 (68 ~ 69)]_90_\t상관관계가 있다\n",
      "p-value = 0.00014353012179419553\n",
      "[L.부동산업 및 임대업 (68 ~ 69)]_910_\t상관관계가 있다\n",
      "p-value = 8.009818315031691e-05\n",
      "[L.부동산업 및 임대업 (68 ~ 69)]_911_\t상관관계가 있다\n",
      "p-value = 1.7202368637164305e-06\n",
      "[L.부동산업 및 임대업 (68 ~ 69)]_912_\t상관관계가 있다\n",
      "p-value = 0.00010921061619177617\n",
      "[L.부동산업 및 임대업 (68 ~ 69)]_913_\t상관관계가 있다\n",
      "p-value = 1.2275313146595914e-20\n",
      "[L.부동산업 및 임대업 (68 ~ 69)]_914_\t상관관계가 있다\n",
      "p-value = 2.1809834601473937e-05\n",
      "[L.부동산업 및 임대업 (68 ~ 69)]_917_\t상관관계가 있다\n",
      "p-value = 9.076331969774281e-07\n",
      "[L.부동산업 및 임대업 (68 ~ 69)]_918_\t상관관계가 있다\n",
      "p-value = 0.00017881182139896308\n",
      "[L.부동산업 및 임대업 (68 ~ 69)]_919_\t상관관계가 있다\n",
      "p-value = 0.3032865767413982\n",
      "[L.부동산업 및 임대업 (68 ~ 69)]_91_\t상관관계가 없다\n"
     ]
    },
    {
     "data": {
      "image/png": "[encoded data removed]",
      "text/plain": [
       "<Figure size 432x288 with 1 Axes>"
      ]
     },
     "metadata": {
      "needs_background": "light"
     },
     "output_type": "display_data"
    },
    {
     "name": "stdout",
     "output_type": "stream",
     "text": [
      "p-value = 8.973727999117208e-08\n",
      "[L.부동산업 및 임대업 (68 ~ 69)]_922_\t상관관계가 있다\n",
      "p-value = 5.73347991265865e-13\n",
      "[L.부동산업 및 임대업 (68 ~ 69)]_925_\t상관관계가 있다\n",
      "p-value = 2.4831461588940857e-14\n",
      "[L.부동산업 및 임대업 (68 ~ 69)]_930_\t상관관계가 있다\n",
      "p-value = 0.00031469023495313286\n",
      "[L.부동산업 및 임대업 (68 ~ 69)]_931_\t상관관계가 있다\n",
      "p-value = 1.169618389921544e-14\n",
      "[L.부동산업 및 임대업 (68 ~ 69)]_932_\t상관관계가 있다\n",
      "p-value = 0.00015109808651596413\n",
      "[L.부동산업 및 임대업 (68 ~ 69)]_936_\t상관관계가 있다\n",
      "p-value = 6.287091004299716e-13\n",
      "[L.부동산업 및 임대업 (68 ~ 69)]_939_\t상관관계가 있다\n",
      "p-value = 1.5933467009327356e-07\n",
      "[L.부동산업 및 임대업 (68 ~ 69)]_943_\t상관관계가 있다\n",
      "p-value = 1.0929931523412444e-07\n",
      "[L.부동산업 및 임대업 (68 ~ 69)]_950_\t상관관계가 있다\n",
      "p-value = 5.273686472354319e-14\n",
      "[L.부동산업 및 임대업 (68 ~ 69)]_951_\t상관관계가 있다\n",
      "p-value = 1.2589688669981162e-06\n",
      "[L.부동산업 및 임대업 (68 ~ 69)]_954_\t상관관계가 있다\n",
      "p-value = 1.6473855124557697e-19\n",
      "[L.부동산업 및 임대업 (68 ~ 69)]_958_\t상관관계가 있다\n",
      "p-value = 1.4586522102449834e-12\n",
      "[L.부동산업 및 임대업 (68 ~ 69)]_959_\t상관관계가 있다\n",
      "p-value = 0.0005603806126408511\n",
      "[L.부동산업 및 임대업 (68 ~ 69)]_95_\t상관관계가 있다\n",
      "p-value = 0.20486890013446524\n",
      "[L.부동산업 및 임대업 (68 ~ 69)]_96_\t상관관계가 없다\n"
     ]
    },
    {
     "data": {
      "image/png": "[encoded data removed]",
      "text/plain": [
       "<Figure size 432x288 with 1 Axes>"
      ]
     },
     "metadata": {
      "needs_background": "light"
     },
     "output_type": "display_data"
    },
    {
     "name": "stdout",
     "output_type": "stream",
     "text": [
      "p-value = 6.276053687087523e-13\n",
      "[L.부동산업 및 임대업 (68 ~ 69)]_970_\t상관관계가 있다\n",
      "p-value = 6.518242962335972e-08\n",
      "[L.부동산업 및 임대업 (68 ~ 69)]_975_\t상관관계가 있다\n",
      "p-value = 3.082678938501333e-06\n",
      "[L.부동산업 및 임대업 (68 ~ 69)]_97_\t상관관계가 있다\n",
      "p-value = 0.00023359934066802956\n",
      "[L.부동산업 및 임대업 (68 ~ 69)]_980_\t상관관계가 있다\n",
      "p-value = 4.70646325189438e-05\n",
      "[L.부동산업 및 임대업 (68 ~ 69)]_987_\t상관관계가 있다\n",
      "p-value = 0.002672589618381093\n",
      "[L.부동산업 및 임대업 (68 ~ 69)]_988_\t상관관계가 있다\n",
      "p-value = 7.556684056509118e-05\n",
      "[L.부동산업 및 임대업 (68 ~ 69)]_989_\t상관관계가 있다\n",
      "p-value = 1.4107999297742285e-06\n",
      "[L.부동산업 및 임대업 (68 ~ 69)]_98_\t상관관계가 있다\n",
      "p-value = 4.398880872673537e-10\n",
      "[L.부동산업 및 임대업 (68 ~ 69)]_991_\t상관관계가 있다\n",
      "p-value = 7.976600280968848e-15\n",
      "[L.부동산업 및 임대업 (68 ~ 69)]_994_\t상관관계가 있다\n",
      "p-value = 3.8260839218359984e-08\n",
      "[L.부동산업 및 임대업 (68 ~ 69)]_996_\t상관관계가 있다\n",
      "p-value = 0.005647020266173306\n",
      "[L.부동산업 및 임대업 (68 ~ 69)]_997_\t상관관계가 있다\n",
      "p-value = 8.652962595388186e-13\n",
      "[L.부동산업 및 임대업 (68 ~ 69)]_999_\t상관관계가 있다\n",
      "p-value = 9.546956039918226e-07\n",
      "[L.부동산업 및 임대업 (68 ~ 69)]_99_\t상관관계가 있다\n",
      "p-value = 0.056941557645432385\n",
      "[M.전문 과학 및 기술 서비스업 (70 ~ 73)]_0_\t상관관계가 없다\n"
     ]
    },
    {
     "data": {
      "image/png": "[encoded data removed]",
      "text/plain": [
       "<Figure size 432x288 with 1 Axes>"
      ]
     },
     "metadata": {
      "needs_background": "light"
     },
     "output_type": "display_data"
    },
    {
     "name": "stdout",
     "output_type": "stream",
     "text": [
      "p-value = 1.4748036073940307e-10\n",
      "[M.전문 과학 및 기술 서비스업 (70 ~ 73)]_12_\t상관관계가 있다\n",
      "p-value = 6.206518385256684e-10\n",
      "[M.전문 과학 및 기술 서비스업 (70 ~ 73)]_17_\t상관관계가 있다\n",
      "p-value = 8.326604289685543e-06\n",
      "[M.전문 과학 및 기술 서비스업 (70 ~ 73)]_20_\t상관관계가 있다\n",
      "p-value = 7.960745919616091e-16\n",
      "[M.전문 과학 및 기술 서비스업 (70 ~ 73)]_21_\t상관관계가 있다\n",
      "p-value = 0.0002233834120439951\n",
      "[M.전문 과학 및 기술 서비스업 (70 ~ 73)]_22_\t상관관계가 있다\n",
      "p-value = 1.9345642861428807e-08\n",
      "[M.전문 과학 및 기술 서비스업 (70 ~ 73)]_23_\t상관관계가 있다\n",
      "p-value = 0.004778768662259057\n",
      "[M.전문 과학 및 기술 서비스업 (70 ~ 73)]_2_\t상관관계가 있다\n",
      "p-value = 4.098679097007672e-16\n",
      "[M.전문 과학 및 기술 서비스업 (70 ~ 73)]_31_\t상관관계가 있다\n",
      "p-value = 0.0001884845101676157\n",
      "[M.전문 과학 및 기술 서비스업 (70 ~ 73)]_33_\t상관관계가 있다\n",
      "p-value = 3.41359372692221e-08\n",
      "[M.전문 과학 및 기술 서비스업 (70 ~ 73)]_34_\t상관관계가 있다\n",
      "p-value = 0.012973068531941878\n",
      "[M.전문 과학 및 기술 서비스업 (70 ~ 73)]_37_\t상관관계가 있다\n",
      "p-value = 7.39716960293151e-12\n",
      "[M.전문 과학 및 기술 서비스업 (70 ~ 73)]_38_\t상관관계가 있다\n",
      "p-value = 0.0032524072007091877\n",
      "[M.전문 과학 및 기술 서비스업 (70 ~ 73)]_3_\t상관관계가 있다\n",
      "p-value = 1.9060331069793808e-17\n",
      "[M.전문 과학 및 기술 서비스업 (70 ~ 73)]_41_\t상관관계가 있다\n",
      "p-value = 8.836051329716333e-11\n",
      "[M.전문 과학 및 기술 서비스업 (70 ~ 73)]_42_\t상관관계가 있다\n",
      "p-value = 5.988230445435646e-05\n",
      "[M.전문 과학 및 기술 서비스업 (70 ~ 73)]_43_\t상관관계가 있다\n",
      "p-value = 3.2708733237487663e-17\n",
      "[M.전문 과학 및 기술 서비스업 (70 ~ 73)]_45_\t상관관계가 있다\n",
      "p-value = 1.3465080177072728e-15\n",
      "[M.전문 과학 및 기술 서비스업 (70 ~ 73)]_46_\t상관관계가 있다\n",
      "p-value = 4.966136392737908e-10\n",
      "[M.전문 과학 및 기술 서비스업 (70 ~ 73)]_47_\t상관관계가 있다\n",
      "p-value = 9.265779427587757e-08\n",
      "[M.전문 과학 및 기술 서비스업 (70 ~ 73)]_48_\t상관관계가 있다\n",
      "p-value = 0.0069203334582825906\n",
      "[M.전문 과학 및 기술 서비스업 (70 ~ 73)]_4_\t상관관계가 있다\n",
      "p-value = 1.9047979447268614e-09\n",
      "[M.전문 과학 및 기술 서비스업 (70 ~ 73)]_5_\t상관관계가 있다\n",
      "p-value = 0.000757108466280872\n",
      "[M.전문 과학 및 기술 서비스업 (70 ~ 73)]_6_\t상관관계가 있다\n",
      "p-value = 0.0073673484578466565\n",
      "[M.전문 과학 및 기술 서비스업 (70 ~ 73)]_7_\t상관관계가 있다\n",
      "p-value = 3.1388750682541104e-05\n",
      "[M.전문 과학 및 기술 서비스업 (70 ~ 73)]_8_\t상관관계가 있다\n",
      "p-value = 4.497813372966507e-06\n",
      "[M.전문 과학 및 기술 서비스업 (70 ~ 73)]_9_\t상관관계가 있다\n",
      "p-value = 6.931560784630313e-06\n",
      "[N.사업시설관리 및 사업지원 서비스업 (74 ~ 75)]_0_\t상관관계가 있다\n",
      "p-value = 2.9760231927561418e-05\n",
      "[N.사업시설관리 및 사업지원 서비스업 (74 ~ 75)]_11_\t상관관계가 있다\n",
      "p-value = 2.978027291473599e-24\n",
      "[N.사업시설관리 및 사업지원 서비스업 (74 ~ 75)]_12_\t상관관계가 있다\n",
      "p-value = 1.2013530450395176e-07\n",
      "[N.사업시설관리 및 사업지원 서비스업 (74 ~ 75)]_16_\t상관관계가 있다\n",
      "p-value = 5.18098851871704e-09\n",
      "[N.사업시설관리 및 사업지원 서비스업 (74 ~ 75)]_17_\t상관관계가 있다\n",
      "p-value = 4.201905101881367e-06\n",
      "[N.사업시설관리 및 사업지원 서비스업 (74 ~ 75)]_18_\t상관관계가 있다\n",
      "p-value = 0.0005541825079829174\n",
      "[N.사업시설관리 및 사업지원 서비스업 (74 ~ 75)]_25_\t상관관계가 있다\n",
      "p-value = 7.719448518256344e-17\n",
      "[N.사업시설관리 및 사업지원 서비스업 (74 ~ 75)]_27_\t상관관계가 있다\n",
      "p-value = 1.4236794616105459e-08\n",
      "[N.사업시설관리 및 사업지원 서비스업 (74 ~ 75)]_28_\t상관관계가 있다\n",
      "p-value = 0.0015701670652382314\n",
      "[N.사업시설관리 및 사업지원 서비스업 (74 ~ 75)]_30_\t상관관계가 있다\n",
      "p-value = 0.0032555569212574685\n",
      "[N.사업시설관리 및 사업지원 서비스업 (74 ~ 75)]_31_\t상관관계가 있다\n",
      "p-value = 0.06671776353126312\n",
      "[N.사업시설관리 및 사업지원 서비스업 (74 ~ 75)]_33_\t상관관계가 없다\n"
     ]
    },
    {
     "data": {
      "image/png": "[encoded data removed]",
      "text/plain": [
       "<Figure size 432x288 with 1 Axes>"
      ]
     },
     "metadata": {
      "needs_background": "light"
     },
     "output_type": "display_data"
    },
    {
     "name": "stdout",
     "output_type": "stream",
     "text": [
      "p-value = 5.032103505348932e-12\n",
      "[N.사업시설관리 및 사업지원 서비스업 (74 ~ 75)]_34_\t상관관계가 있다\n",
      "p-value = 3.1158430546556196e-07\n",
      "[N.사업시설관리 및 사업지원 서비스업 (74 ~ 75)]_3_\t상관관계가 있다\n",
      "p-value = 0.00017479335685363924\n",
      "[N.사업시설관리 및 사업지원 서비스업 (74 ~ 75)]_40_\t상관관계가 있다\n",
      "p-value = 5.8647431557916056e-08\n",
      "[N.사업시설관리 및 사업지원 서비스업 (74 ~ 75)]_45_\t상관관계가 있다\n",
      "p-value = 2.0999574587245116e-06\n",
      "[N.사업시설관리 및 사업지원 서비스업 (74 ~ 75)]_46_\t상관관계가 있다\n",
      "p-value = 1.1859308361638612e-14\n",
      "[N.사업시설관리 및 사업지원 서비스업 (74 ~ 75)]_47_\t상관관계가 있다\n",
      "p-value = 0.00025038676870473605\n",
      "[N.사업시설관리 및 사업지원 서비스업 (74 ~ 75)]_48_\t상관관계가 있다\n",
      "p-value = 2.1357576760977653e-12\n",
      "[N.사업시설관리 및 사업지원 서비스업 (74 ~ 75)]_50_\t상관관계가 있다\n",
      "p-value = 0.0005603351141574684\n",
      "[N.사업시설관리 및 사업지원 서비스업 (74 ~ 75)]_55_\t상관관계가 있다\n",
      "p-value = 8.931311301390693e-22\n",
      "[N.사업시설관리 및 사업지원 서비스업 (74 ~ 75)]_57_\t상관관계가 있다\n",
      "p-value = 2.2208059143387963e-24\n",
      "[N.사업시설관리 및 사업지원 서비스업 (74 ~ 75)]_59_\t상관관계가 있다\n",
      "p-value = 0.00016621269440287946\n",
      "[N.사업시설관리 및 사업지원 서비스업 (74 ~ 75)]_5_\t상관관계가 있다\n",
      "p-value = 2.0065420512071412e-14\n",
      "[N.사업시설관리 및 사업지원 서비스업 (74 ~ 75)]_61_\t상관관계가 있다\n",
      "p-value = 1.1745868664627961e-05\n",
      "[N.사업시설관리 및 사업지원 서비스업 (74 ~ 75)]_62_\t상관관계가 있다\n",
      "p-value = 1.3810068572247388e-09\n",
      "[N.사업시설관리 및 사업지원 서비스업 (74 ~ 75)]_64_\t상관관계가 있다\n",
      "p-value = 2.550130937124536e-17\n",
      "[N.사업시설관리 및 사업지원 서비스업 (74 ~ 75)]_65_\t상관관계가 있다\n",
      "p-value = 2.6044663581183423e-07\n",
      "[N.사업시설관리 및 사업지원 서비스업 (74 ~ 75)]_66_\t상관관계가 있다\n",
      "p-value = 1.5191966778679506e-09\n",
      "[N.사업시설관리 및 사업지원 서비스업 (74 ~ 75)]_67_\t상관관계가 있다\n",
      "p-value = 2.233351923496821e-07\n",
      "[N.사업시설관리 및 사업지원 서비스업 (74 ~ 75)]_68_\t상관관계가 있다\n",
      "p-value = 0.0004862599956857039\n",
      "[N.사업시설관리 및 사업지원 서비스업 (74 ~ 75)]_69_\t상관관계가 있다\n",
      "p-value = 0.012404031088284804\n",
      "[N.사업시설관리 및 사업지원 서비스업 (74 ~ 75)]_70_\t상관관계가 있다\n",
      "p-value = 7.156583567692627e-16\n",
      "[N.사업시설관리 및 사업지원 서비스업 (74 ~ 75)]_71_\t상관관계가 있다\n",
      "p-value = 5.706806699890523e-05\n",
      "[N.사업시설관리 및 사업지원 서비스업 (74 ~ 75)]_72_\t상관관계가 있다\n",
      "p-value = 6.616460300866406e-09\n",
      "[N.사업시설관리 및 사업지원 서비스업 (74 ~ 75)]_75_\t상관관계가 있다\n",
      "p-value = 1.904249514513196e-09\n",
      "[N.사업시설관리 및 사업지원 서비스업 (74 ~ 75)]_7_\t상관관계가 있다\n",
      "p-value = 0.004941633642051424\n",
      "[N.사업시설관리 및 사업지원 서비스업 (74 ~ 75)]_8_\t상관관계가 있다\n",
      "836 782e\n"
     ]
    },
    {
     "data": {
      "image/png": "[encoded data removed]",
      "text/plain": [
       "<Figure size 432x288 with 1 Axes>"
      ]
     },
     "metadata": {
      "needs_background": "light"
     },
     "output_type": "display_data"
    }
   ],
   "source": [
    "import matplotlib.pyplot as plt\n",
    "import scipy.stats as stats\n",
    "\n",
    "def IQR(dist):\n",
    "    return np.percentile(dist, 75) - np.percentile(dist, 25)\n",
    "\n",
    "def sorted_find(t_list, find_var) :\n",
    "    max_var = len(t_list)\n",
    "    found_index = []\n",
    "\n",
    "    for i in range(len(t_list)) :\n",
    "        if find_var in t_list[i] :\n",
    "            found_index.append(i)\n",
    "            max_var = i\n",
    "        else :\n",
    "            if i > max_var :\n",
    "                break\n",
    "    return found_index\n",
    "\n",
    "ncols = ['excel'] + hours_str\n",
    "t_model4 = pd.DataFrame(columns = ncols)\n",
    "num_t = 0\n",
    "\n",
    "barplot_x = []\n",
    "barplot_y = []\n",
    "\n",
    "for j in range(t_model3.shape[0]) :\n",
    "\n",
    "#     print(t_model3.loc[j, 'excel'])\n",
    "#     print(t_model4_day.loc[:, 'excel'].tolist()[ : 5])\n",
    "\n",
    "    day_index = sorted_find(t_model4_day.loc[:, 'excel'].tolist(), t_model3.loc[j, 'excel'])\n",
    "    end_index = sorted_find(t_model4_end.loc[:, 'excel'].tolist(), t_model3.loc[j, 'excel'])\n",
    "\n",
    "#     print(day_index)\n",
    "#     print(end_index)\n",
    "\n",
    "    t_m3 = t_model3.loc[j, '1' :].tolist()\n",
    "    t_day = t_model4_day.loc[day_index, :].copy()\n",
    "    t_end = t_model4_end.loc[end_index, :].copy()\n",
    "    t_day.reset_index(drop = True, inplace = True)\n",
    "    t_end.reset_index(drop = True, inplace = True)\n",
    "\n",
    "    all_y = []\n",
    "#     print(f't_day = {t_day}\\n')\n",
    "#     print(f't_end = {t_end}\\n')\n",
    "\n",
    "    for k in range(1, 25) :\n",
    "        temp_list = t_day.loc[:, f'{k}'].tolist()\n",
    "        iqr_temp = IQR(temp_list)\n",
    "        all_y.append(iqr_temp)\n",
    "\n",
    "    for k in range(1, 25) :\n",
    "        temp_list = t_end.loc[:, f'{k}'].tolist()\n",
    "        iqr_temp = IQR(temp_list)\n",
    "        all_y.append(iqr_temp)\n",
    "    \n",
    "\n",
    "    \n",
    "    a, p = stats.pearsonr(t_m3, all_y)\n",
    "    name = t_model3.loc[j, 'excel']\n",
    "    \n",
    "    print(f'p-value = {p}')\n",
    "    if p < 0.05 :\n",
    "        print(f'{name}\\t상관관계가 있다')\n",
    "    else :\n",
    "        print(f'{name}\\t상관관계가 없다')\n",
    "        plt.scatter(t_m3, all_y)\n",
    "        plt.xlabel('')\n",
    "        plt.show()\n",
    "        \n",
    "    barplot_x.append(j)\n",
    "    barplot_y.append(p)\n",
    "    print(f'{j} done', end = '\\r')\n",
    "\n",
    "p_num = 0\n",
    "for y in barplot_y :\n",
    "    if y < 0.05 :\n",
    "        p_num += 1\n",
    "        \n",
    "print(t_model3.shape[0], p_num)\n",
    "plt.bar(barplot_x, barplot_y)\n",
    "plt.xlim(0, t_model3.shape[0])\n",
    "plt.ylim(0, 0.2)\n",
    "plt.show()\n",
    "\n",
    "    # t_m3 과 all_y 를 서로 correlation analysis로 확인(pearson 상관계수)\n",
    "\n",
    "\n",
    "\n",
    "# # compare (model3 var - model4 iqr)\n",
    "\n",
    "# for j in range(t_model3.shape[0]) :\n",
    "#     temp_m3 = t_model3.loc[j, :]\t\t\t\t\t   # make 1 builidng's model 3\n",
    "#     temp_m3.reset_index(drop = True, inplace = True)\n",
    "\n",
    "#     temp_m4 = pd.DataFrame(columns = t_model4.columns) # make 1 building's model 4\n",
    "#     temp_num = 0\n",
    "\n",
    "#     for k in range(t_model4.shape[0]) :\n",
    "#         if temp_m3.loc[0, 'excel'] in t_model4.loc[k, 'excel'] :\n",
    "#             temp_m4.loc[temp_num, :] = t_model4.loc[k, :]\n",
    "#             temp_num += 1\n",
    "\n",
    "\n",
    "#     all_x = t_model3.loc[j, '1' :].tolist()\n",
    "#     all_y = []\t\n",
    "\n",
    "#     for k in range(1, 49) :\n",
    "#         print(temp_m4.columns)\n",
    "#         temp_list = temp_m4.loc[:, f'{k}'].tolist()\n",
    "#         print(k)\n",
    "#         print(temp_list)\n",
    "#         iqr_temp = IQR(temp_list)\n",
    "#         all_y.append(iqr_temp)\n",
    "\n",
    "# #     print(f'all_x = {all_x}\\n')\n",
    "# #     print(f'all_y = {all_y}\\n')\n",
    "\n",
    "#     a, p = stats.pearson(all_x, all_y)\n",
    "#     name = t_model3.loc[j, 'excel']\n",
    "    \n",
    "#     print(f'p-value = {p}')\n",
    "#     if p < 0.05 :\n",
    "#         print(f'{name}\\t상관관계가 있다')\n",
    "#     else :\n",
    "#         print(f'{name}\\t상관관계가 없다')\n",
    "\n",
    "#     plt.scatter(all_x, all_y)\n",
    "#     plt.show()\n",
    "\n",
    "\n",
    "\n",
    "\n",
    "\n",
    "\n"
   ]
  },
  {
   "cell_type": "code",
   "execution_count": 5,
   "id": "0ec7949f",
   "metadata": {},
   "outputs": [
    {
     "data": {
      "image/png": "[encoded data removed]",
      "text/plain": [
       "<Figure size 432x288 with 1 Axes>"
      ]
     },
     "metadata": {
      "needs_background": "light"
     },
     "output_type": "display_data"
    }
   ],
   "source": [
    "\n",
    "plt.bar(barplot_x, barplot_y)\n",
    "plt.plot([0, t_model3.shape[0]], [0.05, 0.05], c = 'r')\n",
    "plt.xlim(0, t_model3.shape[0])\n",
    "plt.ylim(0, 0.2)\n",
    "plt.show()"
   ]
  },
  {
   "cell_type": "code",
   "execution_count": null,
   "id": "9b42e6bf",
   "metadata": {},
   "outputs": [],
   "source": [
    "print(782 / 835 * 100)"
   ]
  },
  {
   "cell_type": "code",
   "execution_count": null,
   "id": "63ca74d3",
   "metadata": {},
   "outputs": [],
   "source": []
  }
 ],
 "metadata": {
  "kernelspec": {
   "display_name": "Python 3 (ipykernel)",
   "language": "python",
   "name": "python3"
  },
  "language_info": {
   "codemirror_mode": {
    "name": "ipython",
    "version": 3
   },
   "file_extension": ".py",
   "mimetype": "text/x-python",
   "name": "python",
   "nbconvert_exporter": "python",
   "pygments_lexer": "ipython3",
   "version": "3.9.6"
  }
 },
 "nbformat": 4,
 "nbformat_minor": 5
}
