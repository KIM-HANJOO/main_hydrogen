{
 "cells": [
  {
   "cell_type": "code",
   "execution_count": 1,
   "id": "e7a200b3",
   "metadata": {},
   "outputs": [
    {
     "name": "stdout",
     "output_type": "stream",
     "text": [
      "['.ipynb_checkpoints', 'anova_model_1.xlsx', 'model1_anova.xlsx', 'Untitled.ipynb', \"모델1_교육연구시설_('서울특별시')iqr.xlsx\", \"모델1_문화및집회시설_('서울특별시')iqr.xlsx\", \"모델1_숙박시설_('서울특별시')iqr.xlsx\", \"모델1_업무시설_('서울특별시')iqr.xlsx\", \"모델1_판매시설_('서울특별시')iqr.xlsx\"]\n"
     ]
    }
   ],
   "source": [
    "import pandas as pd\n",
    "import numpy as np\n",
    "import os\n",
    "import sys\n",
    "model1_dir = os.getcwd()\n",
    "sys.path.append('C:\\\\Users\\\\joo09\\\\Documents\\\\GitHub\\\\main_hydrogen\\\\module')\n",
    "import model_library as lib\n",
    "\n",
    "print(os.listdir(os.getcwd()))"
   ]
  },
  {
   "cell_type": "code",
   "execution_count": 2,
   "id": "0bdf65ce",
   "metadata": {},
   "outputs": [
    {
     "data": {
      "text/html": [
       "<div>\n",
       "<style scoped>\n",
       "    .dataframe tbody tr th:only-of-type {\n",
       "        vertical-align: middle;\n",
       "    }\n",
       "\n",
       "    .dataframe tbody tr th {\n",
       "        vertical-align: top;\n",
       "    }\n",
       "\n",
       "    .dataframe thead th {\n",
       "        text-align: right;\n",
       "    }\n",
       "</style>\n",
       "<table border=\"1\" class=\"dataframe\">\n",
       "  <thead>\n",
       "    <tr style=\"text-align: right;\">\n",
       "      <th></th>\n",
       "      <th>group</th>\n",
       "      <th>var</th>\n",
       "    </tr>\n",
       "  </thead>\n",
       "  <tbody>\n",
       "    <tr>\n",
       "      <th>0</th>\n",
       "      <td>모델1_교육연구시설_('서울특별시')iqr.xlsx</td>\n",
       "      <td>0.163915</td>\n",
       "    </tr>\n",
       "    <tr>\n",
       "      <th>1</th>\n",
       "      <td>모델1_교육연구시설_('서울특별시')iqr.xlsx</td>\n",
       "      <td>0.165926</td>\n",
       "    </tr>\n",
       "    <tr>\n",
       "      <th>2</th>\n",
       "      <td>모델1_교육연구시설_('서울특별시')iqr.xlsx</td>\n",
       "      <td>0.169842</td>\n",
       "    </tr>\n",
       "    <tr>\n",
       "      <th>3</th>\n",
       "      <td>모델1_교육연구시설_('서울특별시')iqr.xlsx</td>\n",
       "      <td>0.171192</td>\n",
       "    </tr>\n",
       "    <tr>\n",
       "      <th>4</th>\n",
       "      <td>모델1_교육연구시설_('서울특별시')iqr.xlsx</td>\n",
       "      <td>0.172664</td>\n",
       "    </tr>\n",
       "    <tr>\n",
       "      <th>...</th>\n",
       "      <td>...</td>\n",
       "      <td>...</td>\n",
       "    </tr>\n",
       "    <tr>\n",
       "      <th>2205</th>\n",
       "      <td>모델1_판매시설_('서울특별시')iqr.xlsx</td>\n",
       "      <td>1.666546</td>\n",
       "    </tr>\n",
       "    <tr>\n",
       "      <th>2206</th>\n",
       "      <td>모델1_판매시설_('서울특별시')iqr.xlsx</td>\n",
       "      <td>1.575491</td>\n",
       "    </tr>\n",
       "    <tr>\n",
       "      <th>2207</th>\n",
       "      <td>모델1_판매시설_('서울특별시')iqr.xlsx</td>\n",
       "      <td>1.651103</td>\n",
       "    </tr>\n",
       "    <tr>\n",
       "      <th>2208</th>\n",
       "      <td>모델1_판매시설_('서울특별시')iqr.xlsx</td>\n",
       "      <td>1.628649</td>\n",
       "    </tr>\n",
       "    <tr>\n",
       "      <th>2209</th>\n",
       "      <td>모델1_판매시설_('서울특별시')iqr.xlsx</td>\n",
       "      <td>0.700374</td>\n",
       "    </tr>\n",
       "  </tbody>\n",
       "</table>\n",
       "<p>2210 rows × 2 columns</p>\n",
       "</div>"
      ],
      "text/plain": [
       "                             group       var\n",
       "0     모델1_교육연구시설_('서울특별시')iqr.xlsx  0.163915\n",
       "1     모델1_교육연구시설_('서울특별시')iqr.xlsx  0.165926\n",
       "2     모델1_교육연구시설_('서울특별시')iqr.xlsx  0.169842\n",
       "3     모델1_교육연구시설_('서울특별시')iqr.xlsx  0.171192\n",
       "4     모델1_교육연구시설_('서울특별시')iqr.xlsx  0.172664\n",
       "...                            ...       ...\n",
       "2205    모델1_판매시설_('서울특별시')iqr.xlsx  1.666546\n",
       "2206    모델1_판매시설_('서울특별시')iqr.xlsx  1.575491\n",
       "2207    모델1_판매시설_('서울특별시')iqr.xlsx  1.651103\n",
       "2208    모델1_판매시설_('서울특별시')iqr.xlsx  1.628649\n",
       "2209    모델1_판매시설_('서울특별시')iqr.xlsx  0.700374\n",
       "\n",
       "[2210 rows x 2 columns]"
      ]
     },
     "execution_count": 2,
     "metadata": {},
     "output_type": "execute_result"
    }
   ],
   "source": [
    "\n",
    "os.chdir(model1_dir)\n",
    "df = pd.DataFrame(columns = ['group', 'var'])\n",
    "df_num = 0\n",
    "\n",
    "for excel in os.listdir(model1_dir) :\n",
    "    if '모델1' in excel :\n",
    "        temp = lib.read_excel(excel)\n",
    "        temp_1 = temp.iloc[:, 0].tolist()\n",
    "        temp_1.append(temp.columns[0])\n",
    "        \n",
    "        for var in temp_1 :\n",
    "            df.loc[df_num, 'group'] = excel\n",
    "            df.loc[df_num, 'var'] = var\n",
    "            df_num += 1\n",
    "\n",
    "            \n",
    "df.to_excel('model1_anova.xlsx')\n",
    "df        \n",
    "        \n",
    "        "
   ]
  },
  {
   "cell_type": "code",
   "execution_count": null,
   "id": "ca7718c7",
   "metadata": {},
   "outputs": [],
   "source": []
  }
 ],
 "metadata": {
  "kernelspec": {
   "display_name": "Python 3 (ipykernel)",
   "language": "python",
   "name": "python3"
  },
  "language_info": {
   "codemirror_mode": {
    "name": "ipython",
    "version": 3
   },
   "file_extension": ".py",
   "mimetype": "text/x-python",
   "name": "python",
   "nbconvert_exporter": "python",
   "pygments_lexer": "ipython3",
   "version": "3.9.6"
  }
 },
 "nbformat": 4,
 "nbformat_minor": 5
}
